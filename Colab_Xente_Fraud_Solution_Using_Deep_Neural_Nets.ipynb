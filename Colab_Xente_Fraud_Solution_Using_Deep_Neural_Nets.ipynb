{
  "nbformat": 4,
  "nbformat_minor": 0,
  "metadata": {
    "kernelspec": {
      "name": "python3",
      "display_name": "Python 3"
    },
    "language_info": {
      "codemirror_mode": {
        "name": "ipython",
        "version": 3
      },
      "file_extension": ".py",
      "mimetype": "text/x-python",
      "name": "python",
      "nbconvert_exporter": "python",
      "pygments_lexer": "ipython3",
      "version": "3.6.4"
    },
    "colab": {
      "name": "Xente Fraud Solution Using Deep Neural Nets.ipynb",
      "version": "0.3.2",
      "provenance": [],
      "collapsed_sections": [],
      "include_colab_link": true
    },
    "accelerator": "TPU"
  },
  "cells": [
    {
      "cell_type": "markdown",
      "metadata": {
        "id": "view-in-github",
        "colab_type": "text"
      },
      "source": [
        "<a href=\"https://colab.research.google.com/github/atwine/Convo_Nets/blob/master/Colab_Xente_Fraud_Solution_Using_Deep_Neural_Nets.ipynb\" target=\"_parent\"><img src=\"https://colab.research.google.com/assets/colab-badge.svg\" alt=\"Open In Colab\"/></a>"
      ]
    },
    {
      "cell_type": "markdown",
      "metadata": {
        "id": "a-Fm-CmwZ-SU",
        "colab_type": "text"
      },
      "source": [
        "# Xente Solution Using Deep Neural Nets\n",
        " By Atwine Mugume\n",
        " \n",
        "I have been working on an online classification problem where we have to detect fraud.\n",
        "Since I am now alittle conversant with some of these methods I want to try my luck at using them so that I can see if this will improve my score on the leader boards"
      ]
    },
    {
      "cell_type": "code",
      "metadata": {
        "id": "kiuT7n1pZ-SY",
        "colab_type": "code",
        "colab": {}
      },
      "source": [
        "#let me import some of the libraries that I will be using\n",
        "import pandas as pd\n",
        "import numpy as np"
      ],
      "execution_count": 0,
      "outputs": []
    },
    {
      "cell_type": "code",
      "metadata": {
        "id": "9hXF4jtqaa8_",
        "colab_type": "code",
        "colab": {
          "resources": {
            "http://localhost:8080/nbextensions/google.colab/files.js": {
              "data": "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",
              "ok": true,
              "headers": [
                [
                  "content-type",
                  "application/javascript"
                ]
              ],
              "status": 200,
              "status_text": ""
            }
          },
          "base_uri": "https://localhost:8080/",
          "height": 55
        },
        "outputId": "24357353-949b-4c90-8ca0-c6348e576f3d"
      },
      "source": [
        "#Since this notebook is run in colab I have to import all my data from my laptop\n",
        "from google.colab import files \n",
        "files.upload()"
      ],
      "execution_count": 2,
      "outputs": [
        {
          "output_type": "display_data",
          "data": {
            "text/html": [
              "\n",
              "     <input type=\"file\" id=\"files-5dda71ed-7706-4958-8092-c81dfa5220a2\" name=\"files[]\" multiple disabled />\n",
              "     <output id=\"result-5dda71ed-7706-4958-8092-c81dfa5220a2\">\n",
              "      Upload widget is only available when the cell has been executed in the\n",
              "      current browser session. Please rerun this cell to enable.\n",
              "      </output>\n",
              "      <script src=\"/nbextensions/google.colab/files.js\"></script> "
            ],
            "text/plain": [
              "<IPython.core.display.HTML object>"
            ]
          },
          "metadata": {
            "tags": []
          }
        },
        {
          "output_type": "execute_result",
          "data": {
            "text/plain": [
              "{}"
            ]
          },
          "metadata": {
            "tags": []
          },
          "execution_count": 2
        }
      ]
    },
    {
      "cell_type": "code",
      "metadata": {
        "id": "ksLsDrF3fOA1",
        "colab_type": "code",
        "colab": {
          "base_uri": "https://localhost:8080/",
          "height": 35
        },
        "outputId": "fc72a055-b18c-46db-fb57-2de7b52f7705"
      },
      "source": [
        "#let's see if all our data is here\n",
        "!ls"
      ],
      "execution_count": 3,
      "outputs": [
        {
          "output_type": "stream",
          "text": [
            "sample_data  test.csv  test_prc.csv  training.csv  train_prc.csv\n"
          ],
          "name": "stdout"
        }
      ]
    },
    {
      "cell_type": "code",
      "metadata": {
        "id": "O_B54WZZZ-Sd",
        "colab_type": "code",
        "colab": {}
      },
      "source": [
        "#let's read the data into the notebook\n",
        "train = pd.read_csv('training.csv')\n",
        "test = pd.read_csv('test.csv')"
      ],
      "execution_count": 0,
      "outputs": []
    },
    {
      "cell_type": "code",
      "metadata": {
        "id": "ZnodXsUVZ-Sf",
        "colab_type": "code",
        "outputId": "465e9d3a-d495-422c-af0d-244c10626a39",
        "colab": {
          "base_uri": "https://localhost:8080/",
          "height": 218
        }
      },
      "source": [
        "#the data that I have imported above is not yet preprocessed\n",
        "train.head()"
      ],
      "execution_count": 5,
      "outputs": [
        {
          "output_type": "execute_result",
          "data": {
            "text/html": [
              "<div>\n",
              "<style scoped>\n",
              "    .dataframe tbody tr th:only-of-type {\n",
              "        vertical-align: middle;\n",
              "    }\n",
              "\n",
              "    .dataframe tbody tr th {\n",
              "        vertical-align: top;\n",
              "    }\n",
              "\n",
              "    .dataframe thead th {\n",
              "        text-align: right;\n",
              "    }\n",
              "</style>\n",
              "<table border=\"1\" class=\"dataframe\">\n",
              "  <thead>\n",
              "    <tr style=\"text-align: right;\">\n",
              "      <th></th>\n",
              "      <th>TransactionId</th>\n",
              "      <th>BatchId</th>\n",
              "      <th>AccountId</th>\n",
              "      <th>SubscriptionId</th>\n",
              "      <th>CustomerId</th>\n",
              "      <th>CurrencyCode</th>\n",
              "      <th>CountryCode</th>\n",
              "      <th>ProviderId</th>\n",
              "      <th>ProductId</th>\n",
              "      <th>ProductCategory</th>\n",
              "      <th>ChannelId</th>\n",
              "      <th>Amount</th>\n",
              "      <th>Value</th>\n",
              "      <th>TransactionStartTime</th>\n",
              "      <th>PricingStrategy</th>\n",
              "      <th>FraudResult</th>\n",
              "    </tr>\n",
              "  </thead>\n",
              "  <tbody>\n",
              "    <tr>\n",
              "      <th>0</th>\n",
              "      <td>TransactionId_76871</td>\n",
              "      <td>BatchId_36123</td>\n",
              "      <td>AccountId_3957</td>\n",
              "      <td>SubscriptionId_887</td>\n",
              "      <td>CustomerId_4406</td>\n",
              "      <td>UGX</td>\n",
              "      <td>256</td>\n",
              "      <td>ProviderId_6</td>\n",
              "      <td>ProductId_10</td>\n",
              "      <td>airtime</td>\n",
              "      <td>ChannelId_3</td>\n",
              "      <td>1000.0</td>\n",
              "      <td>1000</td>\n",
              "      <td>2018-11-15T02:18:49Z</td>\n",
              "      <td>2</td>\n",
              "      <td>0</td>\n",
              "    </tr>\n",
              "    <tr>\n",
              "      <th>1</th>\n",
              "      <td>TransactionId_73770</td>\n",
              "      <td>BatchId_15642</td>\n",
              "      <td>AccountId_4841</td>\n",
              "      <td>SubscriptionId_3829</td>\n",
              "      <td>CustomerId_4406</td>\n",
              "      <td>UGX</td>\n",
              "      <td>256</td>\n",
              "      <td>ProviderId_4</td>\n",
              "      <td>ProductId_6</td>\n",
              "      <td>financial_services</td>\n",
              "      <td>ChannelId_2</td>\n",
              "      <td>-20.0</td>\n",
              "      <td>20</td>\n",
              "      <td>2018-11-15T02:19:08Z</td>\n",
              "      <td>2</td>\n",
              "      <td>0</td>\n",
              "    </tr>\n",
              "    <tr>\n",
              "      <th>2</th>\n",
              "      <td>TransactionId_26203</td>\n",
              "      <td>BatchId_53941</td>\n",
              "      <td>AccountId_4229</td>\n",
              "      <td>SubscriptionId_222</td>\n",
              "      <td>CustomerId_4683</td>\n",
              "      <td>UGX</td>\n",
              "      <td>256</td>\n",
              "      <td>ProviderId_6</td>\n",
              "      <td>ProductId_1</td>\n",
              "      <td>airtime</td>\n",
              "      <td>ChannelId_3</td>\n",
              "      <td>500.0</td>\n",
              "      <td>500</td>\n",
              "      <td>2018-11-15T02:44:21Z</td>\n",
              "      <td>2</td>\n",
              "      <td>0</td>\n",
              "    </tr>\n",
              "    <tr>\n",
              "      <th>3</th>\n",
              "      <td>TransactionId_380</td>\n",
              "      <td>BatchId_102363</td>\n",
              "      <td>AccountId_648</td>\n",
              "      <td>SubscriptionId_2185</td>\n",
              "      <td>CustomerId_988</td>\n",
              "      <td>UGX</td>\n",
              "      <td>256</td>\n",
              "      <td>ProviderId_1</td>\n",
              "      <td>ProductId_21</td>\n",
              "      <td>utility_bill</td>\n",
              "      <td>ChannelId_3</td>\n",
              "      <td>20000.0</td>\n",
              "      <td>21800</td>\n",
              "      <td>2018-11-15T03:32:55Z</td>\n",
              "      <td>2</td>\n",
              "      <td>0</td>\n",
              "    </tr>\n",
              "    <tr>\n",
              "      <th>4</th>\n",
              "      <td>TransactionId_28195</td>\n",
              "      <td>BatchId_38780</td>\n",
              "      <td>AccountId_4841</td>\n",
              "      <td>SubscriptionId_3829</td>\n",
              "      <td>CustomerId_988</td>\n",
              "      <td>UGX</td>\n",
              "      <td>256</td>\n",
              "      <td>ProviderId_4</td>\n",
              "      <td>ProductId_6</td>\n",
              "      <td>financial_services</td>\n",
              "      <td>ChannelId_2</td>\n",
              "      <td>-644.0</td>\n",
              "      <td>644</td>\n",
              "      <td>2018-11-15T03:34:21Z</td>\n",
              "      <td>2</td>\n",
              "      <td>0</td>\n",
              "    </tr>\n",
              "  </tbody>\n",
              "</table>\n",
              "</div>"
            ],
            "text/plain": [
              "         TransactionId         BatchId  ... PricingStrategy FraudResult\n",
              "0  TransactionId_76871   BatchId_36123  ...               2           0\n",
              "1  TransactionId_73770   BatchId_15642  ...               2           0\n",
              "2  TransactionId_26203   BatchId_53941  ...               2           0\n",
              "3    TransactionId_380  BatchId_102363  ...               2           0\n",
              "4  TransactionId_28195   BatchId_38780  ...               2           0\n",
              "\n",
              "[5 rows x 16 columns]"
            ]
          },
          "metadata": {
            "tags": []
          },
          "execution_count": 5
        }
      ]
    },
    {
      "cell_type": "code",
      "metadata": {
        "id": "im5bn6_mZ-Sj",
        "colab_type": "code",
        "outputId": "af7733df-806f-4dd8-f7fb-93a4b6229243",
        "colab": {
          "base_uri": "https://localhost:8080/",
          "height": 188
        }
      },
      "source": [
        "#I have already preprocessed this data into two different csv files\n",
        "#The only thing I need here is the id from the test data so that I can make a submission\n",
        "test.head(4)"
      ],
      "execution_count": 6,
      "outputs": [
        {
          "output_type": "execute_result",
          "data": {
            "text/html": [
              "<div>\n",
              "<style scoped>\n",
              "    .dataframe tbody tr th:only-of-type {\n",
              "        vertical-align: middle;\n",
              "    }\n",
              "\n",
              "    .dataframe tbody tr th {\n",
              "        vertical-align: top;\n",
              "    }\n",
              "\n",
              "    .dataframe thead th {\n",
              "        text-align: right;\n",
              "    }\n",
              "</style>\n",
              "<table border=\"1\" class=\"dataframe\">\n",
              "  <thead>\n",
              "    <tr style=\"text-align: right;\">\n",
              "      <th></th>\n",
              "      <th>TransactionId</th>\n",
              "      <th>BatchId</th>\n",
              "      <th>AccountId</th>\n",
              "      <th>SubscriptionId</th>\n",
              "      <th>CustomerId</th>\n",
              "      <th>CurrencyCode</th>\n",
              "      <th>CountryCode</th>\n",
              "      <th>ProviderId</th>\n",
              "      <th>ProductId</th>\n",
              "      <th>ProductCategory</th>\n",
              "      <th>ChannelId</th>\n",
              "      <th>Amount</th>\n",
              "      <th>Value</th>\n",
              "      <th>TransactionStartTime</th>\n",
              "      <th>PricingStrategy</th>\n",
              "    </tr>\n",
              "  </thead>\n",
              "  <tbody>\n",
              "    <tr>\n",
              "      <th>0</th>\n",
              "      <td>TransactionId_50600</td>\n",
              "      <td>BatchId_35028</td>\n",
              "      <td>AccountId_2441</td>\n",
              "      <td>SubscriptionId_4426</td>\n",
              "      <td>CustomerId_2857</td>\n",
              "      <td>UGX</td>\n",
              "      <td>256</td>\n",
              "      <td>ProviderId_5</td>\n",
              "      <td>ProductId_3</td>\n",
              "      <td>airtime</td>\n",
              "      <td>ChannelId_3</td>\n",
              "      <td>1000.0</td>\n",
              "      <td>1000</td>\n",
              "      <td>2019-02-13T10:01:40Z</td>\n",
              "      <td>4</td>\n",
              "    </tr>\n",
              "    <tr>\n",
              "      <th>1</th>\n",
              "      <td>TransactionId_95109</td>\n",
              "      <td>BatchId_45139</td>\n",
              "      <td>AccountId_3439</td>\n",
              "      <td>SubscriptionId_2643</td>\n",
              "      <td>CustomerId_3874</td>\n",
              "      <td>UGX</td>\n",
              "      <td>256</td>\n",
              "      <td>ProviderId_5</td>\n",
              "      <td>ProductId_15</td>\n",
              "      <td>financial_services</td>\n",
              "      <td>ChannelId_3</td>\n",
              "      <td>2000.0</td>\n",
              "      <td>2000</td>\n",
              "      <td>2019-02-13T10:02:12Z</td>\n",
              "      <td>2</td>\n",
              "    </tr>\n",
              "    <tr>\n",
              "      <th>2</th>\n",
              "      <td>TransactionId_47357</td>\n",
              "      <td>BatchId_74887</td>\n",
              "      <td>AccountId_4841</td>\n",
              "      <td>SubscriptionId_3829</td>\n",
              "      <td>CustomerId_2857</td>\n",
              "      <td>UGX</td>\n",
              "      <td>256</td>\n",
              "      <td>ProviderId_4</td>\n",
              "      <td>ProductId_6</td>\n",
              "      <td>financial_services</td>\n",
              "      <td>ChannelId_2</td>\n",
              "      <td>-50.0</td>\n",
              "      <td>50</td>\n",
              "      <td>2019-02-13T10:02:30Z</td>\n",
              "      <td>2</td>\n",
              "    </tr>\n",
              "    <tr>\n",
              "      <th>3</th>\n",
              "      <td>TransactionId_28185</td>\n",
              "      <td>BatchId_11025</td>\n",
              "      <td>AccountId_2685</td>\n",
              "      <td>SubscriptionId_4626</td>\n",
              "      <td>CustomerId_3105</td>\n",
              "      <td>UGX</td>\n",
              "      <td>256</td>\n",
              "      <td>ProviderId_5</td>\n",
              "      <td>ProductId_10</td>\n",
              "      <td>airtime</td>\n",
              "      <td>ChannelId_3</td>\n",
              "      <td>3000.0</td>\n",
              "      <td>3000</td>\n",
              "      <td>2019-02-13T10:02:38Z</td>\n",
              "      <td>4</td>\n",
              "    </tr>\n",
              "  </tbody>\n",
              "</table>\n",
              "</div>"
            ],
            "text/plain": [
              "         TransactionId        BatchId  ...  TransactionStartTime PricingStrategy\n",
              "0  TransactionId_50600  BatchId_35028  ...  2019-02-13T10:01:40Z               4\n",
              "1  TransactionId_95109  BatchId_45139  ...  2019-02-13T10:02:12Z               2\n",
              "2  TransactionId_47357  BatchId_74887  ...  2019-02-13T10:02:30Z               2\n",
              "3  TransactionId_28185  BatchId_11025  ...  2019-02-13T10:02:38Z               4\n",
              "\n",
              "[4 rows x 15 columns]"
            ]
          },
          "metadata": {
            "tags": []
          },
          "execution_count": 6
        }
      ]
    },
    {
      "cell_type": "code",
      "metadata": {
        "id": "trzeeI06Z-Sm",
        "colab_type": "code",
        "outputId": "4b2bb261-0690-4a25-acce-72883c5d6426",
        "colab": {
          "base_uri": "https://localhost:8080/",
          "height": 121
        }
      },
      "source": [
        "#let me take out the transaction ID\n",
        "TransactionID = test['TransactionId']\n",
        "TransactionID[:5] #let's see the top 5 ids"
      ],
      "execution_count": 7,
      "outputs": [
        {
          "output_type": "execute_result",
          "data": {
            "text/plain": [
              "0    TransactionId_50600\n",
              "1    TransactionId_95109\n",
              "2    TransactionId_47357\n",
              "3    TransactionId_28185\n",
              "4    TransactionId_22140\n",
              "Name: TransactionId, dtype: object"
            ]
          },
          "metadata": {
            "tags": []
          },
          "execution_count": 7
        }
      ]
    },
    {
      "cell_type": "markdown",
      "metadata": {
        "id": "M6UuO3IQZ-Sq",
        "colab_type": "text"
      },
      "source": [
        "### Pre-processed data\n",
        "\n",
        "I am not going to bring in the pre-processed data on which I am going to run my neural net"
      ]
    },
    {
      "cell_type": "code",
      "metadata": {
        "id": "NI3UO_SvZ-Sr",
        "colab_type": "code",
        "colab": {}
      },
      "source": [
        "train_prc = pd.read_csv('train_prc.csv')\n",
        "test_prc = pd.read_csv('test_prc.csv')"
      ],
      "execution_count": 0,
      "outputs": []
    },
    {
      "cell_type": "code",
      "metadata": {
        "id": "ZI5hgAD-Z-St",
        "colab_type": "code",
        "outputId": "0e077bea-3429-452b-9ed7-91c027e0d6ba",
        "colab": {
          "base_uri": "https://localhost:8080/",
          "height": 35
        }
      },
      "source": [
        "train_prc.shape, test.shape"
      ],
      "execution_count": 9,
      "outputs": [
        {
          "output_type": "execute_result",
          "data": {
            "text/plain": [
              "((95662, 92), (45019, 15))"
            ]
          },
          "metadata": {
            "tags": []
          },
          "execution_count": 9
        }
      ]
    },
    {
      "cell_type": "code",
      "metadata": {
        "id": "TE2gw3ItZ-Sx",
        "colab_type": "code",
        "outputId": "415cfcd5-6583-4da8-d395-4e12e7d9e512",
        "colab": {
          "base_uri": "https://localhost:8080/",
          "height": 518
        }
      },
      "source": [
        "train_prc.columns"
      ],
      "execution_count": 10,
      "outputs": [
        {
          "output_type": "execute_result",
          "data": {
            "text/plain": [
              "Index(['Unnamed: 0', 'BatchId_0', 'BatchId_1', 'BatchId_2', 'BatchId_3',\n",
              "       'BatchId_4', 'BatchId_5', 'BatchId_6', 'BatchId_7', 'BatchId_8',\n",
              "       'BatchId_9', 'BatchId_10', 'BatchId_11', 'BatchId_12', 'BatchId_13',\n",
              "       'BatchId_14', 'BatchId_15', 'BatchId_16', 'BatchId_17', 'AccountId_0',\n",
              "       'AccountId_1', 'AccountId_2', 'AccountId_3', 'AccountId_4',\n",
              "       'AccountId_5', 'AccountId_6', 'AccountId_7', 'AccountId_8',\n",
              "       'AccountId_9', 'AccountId_10', 'AccountId_11', 'AccountId_12',\n",
              "       'SubscriptionId_0', 'SubscriptionId_1', 'SubscriptionId_2',\n",
              "       'SubscriptionId_3', 'SubscriptionId_4', 'SubscriptionId_5',\n",
              "       'SubscriptionId_6', 'SubscriptionId_7', 'SubscriptionId_8',\n",
              "       'SubscriptionId_9', 'SubscriptionId_10', 'SubscriptionId_11',\n",
              "       'SubscriptionId_12', 'CustomerId_0', 'CustomerId_1', 'CustomerId_2',\n",
              "       'CustomerId_3', 'CustomerId_4', 'CustomerId_5', 'CustomerId_6',\n",
              "       'CustomerId_7', 'CustomerId_8', 'CustomerId_9', 'CustomerId_10',\n",
              "       'CustomerId_11', 'CustomerId_12', 'ProviderId_0', 'ProviderId_1',\n",
              "       'ProviderId_2', 'ProviderId_3', 'ProductId_0', 'ProductId_1',\n",
              "       'ProductId_2', 'ProductId_3', 'ProductId_4', 'ProductId_5',\n",
              "       'ProductCategory_0', 'ProductCategory_1', 'ProductCategory_2',\n",
              "       'ProductCategory_3', 'ProductCategory_4', 'ChannelId_0', 'ChannelId_1',\n",
              "       'ChannelId_2', 'Value', 'PricingStrategy', 'TransactionStartTimeYear',\n",
              "       'TransactionStartTimeMonth', 'TransactionStartTimeWeek',\n",
              "       'TransactionStartTimeDay', 'TransactionStartTimeDayofweek',\n",
              "       'TransactionStartTimeDayofyear', 'TransactionStartTimeIs_month_end',\n",
              "       'TransactionStartTimeIs_month_start',\n",
              "       'TransactionStartTimeIs_quarter_end',\n",
              "       'TransactionStartTimeIs_quarter_start',\n",
              "       'TransactionStartTimeIs_year_end', 'TransactionStartTimeIs_year_start',\n",
              "       'TransactionStartTimeElapsed', 'FraudResult'],\n",
              "      dtype='object')"
            ]
          },
          "metadata": {
            "tags": []
          },
          "execution_count": 10
        }
      ]
    },
    {
      "cell_type": "code",
      "metadata": {
        "id": "5G3Zt0vPZ-Sz",
        "colab_type": "code",
        "colab": {}
      },
      "source": [
        "#let's take out the label of the data so that it doesn't get lost in there somewhere\n",
        "label = train_prc['FraudResult']\n",
        "\n",
        "#then we also drop this field from the data\n",
        "train_prc = train_prc.drop(columns='FraudResult')"
      ],
      "execution_count": 0,
      "outputs": []
    },
    {
      "cell_type": "markdown",
      "metadata": {
        "id": "uAAknxvLZ-S2",
        "colab_type": "text"
      },
      "source": [
        "### Validation Set"
      ]
    },
    {
      "cell_type": "code",
      "metadata": {
        "id": "JZhlym01Z-S5",
        "colab_type": "code",
        "colab": {}
      },
      "source": [
        "#I need to keep a validation set of the data before we go so far\n",
        "#I am going to keep the last 15000\n",
        "x_val = train_prc.loc[80662:,]\n",
        "y_val = label[80662:]"
      ],
      "execution_count": 0,
      "outputs": []
    },
    {
      "cell_type": "markdown",
      "metadata": {
        "id": "cBv7XRF7Z-S8",
        "colab_type": "text"
      },
      "source": [
        "### Useable Data"
      ]
    },
    {
      "cell_type": "code",
      "metadata": {
        "scrolled": true,
        "id": "hEY24t10Z-S9",
        "colab_type": "code",
        "colab": {}
      },
      "source": [
        "train_df = train_prc.loc[:80661,]\n",
        "label_ = label[:80662]"
      ],
      "execution_count": 0,
      "outputs": []
    },
    {
      "cell_type": "code",
      "metadata": {
        "id": "4mNqCxqKZ-TB",
        "colab_type": "code",
        "outputId": "e5c995b0-c993-41c1-bb11-9bb19b1db6b2",
        "colab": {
          "base_uri": "https://localhost:8080/",
          "height": 35
        }
      },
      "source": [
        "train_df.shape, label_.shape"
      ],
      "execution_count": 14,
      "outputs": [
        {
          "output_type": "execute_result",
          "data": {
            "text/plain": [
              "((80662, 91), (80662,))"
            ]
          },
          "metadata": {
            "tags": []
          },
          "execution_count": 14
        }
      ]
    },
    {
      "cell_type": "markdown",
      "metadata": {
        "id": "rOgDfBd3Z-TE",
        "colab_type": "text"
      },
      "source": [
        "### Now let us split the data\n",
        "\n",
        "We are going to use the sklearn model of splitting to plit the data and the we are going to work with the data imbalance before we beging to introduce our neural entwork.\n"
      ]
    },
    {
      "cell_type": "code",
      "metadata": {
        "id": "gpq-L_nNZ-TF",
        "colab_type": "code",
        "colab": {}
      },
      "source": [
        "from sklearn.model_selection import train_test_split\n",
        "\n",
        "#let's split the data now\n",
        "x_train, x_test, y_train, y_test = train_test_split(train_df,label_,test_size=0.2,random_state=2019)"
      ],
      "execution_count": 0,
      "outputs": []
    },
    {
      "cell_type": "code",
      "metadata": {
        "id": "JaBQGQ0aZ-TI",
        "colab_type": "code",
        "outputId": "1ad0f96f-ae81-4085-c17c-b4047146db88",
        "colab": {
          "base_uri": "https://localhost:8080/",
          "height": 35
        }
      },
      "source": [
        "#let's see the shapes\n",
        "x_train.shape, y_train.shape,  x_test.shape, y_test.shape"
      ],
      "execution_count": 16,
      "outputs": [
        {
          "output_type": "execute_result",
          "data": {
            "text/plain": [
              "((64529, 91), (64529,), (16133, 91), (16133,))"
            ]
          },
          "metadata": {
            "tags": []
          },
          "execution_count": 16
        }
      ]
    },
    {
      "cell_type": "markdown",
      "metadata": {
        "id": "fR_nKXBoZ-TL",
        "colab_type": "text"
      },
      "source": [
        "## Data Imbalance\n",
        "\n",
        "Most times in fraud related datasets we normally have less fraud than there are fraud cases. We generally have data imbalance and would like to sort that out before we put the data into the  ML tuner."
      ]
    },
    {
      "cell_type": "code",
      "metadata": {
        "id": "56dZNd_dZ-TM",
        "colab_type": "code",
        "outputId": "8939b284-a578-4c3a-bda1-7b6ee8297ef9",
        "colab": {
          "base_uri": "https://localhost:8080/",
          "height": 72
        }
      },
      "source": [
        "from imblearn.over_sampling import SMOTE\n",
        "\n",
        "smote = SMOTE(random_state=27,ratio='minority')\n",
        "x_train, y_train = smote.fit_sample(x_train, y_train)"
      ],
      "execution_count": 17,
      "outputs": [
        {
          "output_type": "stream",
          "text": [
            "/usr/local/lib/python3.6/dist-packages/sklearn/externals/six.py:31: DeprecationWarning: The module is deprecated in version 0.21 and will be removed in version 0.23 since we've dropped support for Python 2.7. Please rely on the official version of six (https://pypi.org/project/six/).\n",
            "  \"(https://pypi.org/project/six/).\", DeprecationWarning)\n"
          ],
          "name": "stderr"
        }
      ]
    },
    {
      "cell_type": "code",
      "metadata": {
        "id": "E7IwmhfjxLyf",
        "colab_type": "code",
        "colab": {
          "base_uri": "https://localhost:8080/",
          "height": 35
        },
        "outputId": "1bd6a13f-0ecd-4cb5-a8b3-c03bbd3a5169"
      },
      "source": [
        "x_train.shape, y_train.shape"
      ],
      "execution_count": 18,
      "outputs": [
        {
          "output_type": "execute_result",
          "data": {
            "text/plain": [
              "((128844, 91), (128844,))"
            ]
          },
          "metadata": {
            "tags": []
          },
          "execution_count": 18
        }
      ]
    },
    {
      "cell_type": "code",
      "metadata": {
        "id": "vhylcsVjxMuH",
        "colab_type": "code",
        "colab": {
          "base_uri": "https://localhost:8080/",
          "height": 104
        },
        "outputId": "17dc26a0-ab08-4b0b-f090-effa29f7247b"
      },
      "source": [
        "print('After OverSampling, the shape of train_X: {}'.format(x_train.shape))\n",
        "print('After OverSampling, the shape of train_y: {} \\n'.format(y_train.shape))\n",
        "\n",
        "print(\"After OverSampling, counts of label '1': {}\".format(sum(y_train==1)))\n",
        "print(\"After OverSampling, counts of label '0': {}\".format(sum(y_train==0)))"
      ],
      "execution_count": 20,
      "outputs": [
        {
          "output_type": "stream",
          "text": [
            "After OverSampling, the shape of train_X: (128844, 91)\n",
            "After OverSampling, the shape of train_y: (128844,) \n",
            "\n",
            "After OverSampling, counts of label '1': 64422\n",
            "After OverSampling, counts of label '0': 64422\n"
          ],
          "name": "stdout"
        }
      ]
    },
    {
      "cell_type": "markdown",
      "metadata": {
        "id": "NURvkKIQZ-TP",
        "colab_type": "text"
      },
      "source": [
        "## Keras Model Building\n",
        "\n",
        "Now that we have dealt with some of these things in the data its time to begin to deal with it by building a Deep Neural Network to Help solve this problem.\n",
        "\n",
        "I am going to be using Google Colab because they have a free GPU and TPU\n"
      ]
    },
    {
      "cell_type": "code",
      "metadata": {
        "id": "DBBbzpYxf1c-",
        "colab_type": "code",
        "colab": {
          "base_uri": "https://localhost:8080/",
          "height": 35
        },
        "outputId": "0f3fb1c7-345f-4b4f-c24c-7edff2ade06b"
      },
      "source": [
        "#let's import the necessary libraries to be able to use the DNN\n",
        "from keras import Sequential\n",
        "from keras.layers import Dense"
      ],
      "execution_count": 21,
      "outputs": [
        {
          "output_type": "stream",
          "text": [
            "Using TensorFlow backend.\n"
          ],
          "name": "stderr"
        }
      ]
    },
    {
      "cell_type": "code",
      "metadata": {
        "id": "LB5J51bphsty",
        "colab_type": "code",
        "colab": {}
      },
      "source": [
        ""
      ],
      "execution_count": 0,
      "outputs": []
    },
    {
      "cell_type": "markdown",
      "metadata": {
        "id": "fZstsR87huYe",
        "colab_type": "text"
      },
      "source": [
        "## First Model Attempt"
      ]
    },
    {
      "cell_type": "code",
      "metadata": {
        "id": "_J7JpSrDgpd9",
        "colab_type": "code",
        "colab": {
          "base_uri": "https://localhost:8080/",
          "height": 417
        },
        "outputId": "68464f77-4af0-4518-d786-d3d1c2223995"
      },
      "source": [
        "#Design the deep neural network [Small + 1 layer]\n",
        "model  = Sequential()\n",
        "model.add(Dense(256,input_dim = x_train.shape[1],activation=\"relu\"))\n",
        "model.add(Dense(256,activation=\"relu\"))\n",
        "model.add(Dense(1,activation = \"sigmoid\")) #activation = sigmoid for binary classification\n",
        "\n",
        "model.compile(optimizer = \"Adam\",loss=\"binary_crossentropy\",metrics=[\"accuracy\"])\n",
        "\n",
        "model.fit(x_train,y_train, validation_data = (x_val,y_val),epochs=10, batch_size=64)"
      ],
      "execution_count": 25,
      "outputs": [
        {
          "output_type": "stream",
          "text": [
            "Train on 128844 samples, validate on 15000 samples\n",
            "Epoch 1/10\n",
            "128844/128844 [==============================] - 7s 56us/step - loss: 8.0590 - acc: 0.5000 - val_loss: 0.0570 - val_acc: 0.9965\n",
            "Epoch 2/10\n",
            "128844/128844 [==============================] - 7s 54us/step - loss: 8.0590 - acc: 0.5000 - val_loss: 0.0570 - val_acc: 0.9965\n",
            "Epoch 3/10\n",
            "128844/128844 [==============================] - 7s 55us/step - loss: 8.0590 - acc: 0.5000 - val_loss: 0.0570 - val_acc: 0.9965\n",
            "Epoch 4/10\n",
            "128844/128844 [==============================] - 7s 54us/step - loss: 8.0590 - acc: 0.5000 - val_loss: 0.0570 - val_acc: 0.9965\n",
            "Epoch 5/10\n",
            "128844/128844 [==============================] - 7s 54us/step - loss: 8.0590 - acc: 0.5000 - val_loss: 0.0570 - val_acc: 0.9965\n",
            "Epoch 6/10\n",
            "128844/128844 [==============================] - 7s 54us/step - loss: 8.0590 - acc: 0.5000 - val_loss: 0.0570 - val_acc: 0.9965\n",
            "Epoch 7/10\n",
            "128844/128844 [==============================] - 7s 54us/step - loss: 8.0590 - acc: 0.5000 - val_loss: 0.0570 - val_acc: 0.9965\n",
            "Epoch 8/10\n",
            "128844/128844 [==============================] - 7s 54us/step - loss: 8.0590 - acc: 0.5000 - val_loss: 0.0570 - val_acc: 0.9965\n",
            "Epoch 9/10\n",
            "128844/128844 [==============================] - 7s 54us/step - loss: 8.0590 - acc: 0.5000 - val_loss: 0.0570 - val_acc: 0.9965\n",
            "Epoch 10/10\n",
            "128844/128844 [==============================] - 7s 54us/step - loss: 8.0590 - acc: 0.5000 - val_loss: 0.0570 - val_acc: 0.9965\n"
          ],
          "name": "stdout"
        },
        {
          "output_type": "execute_result",
          "data": {
            "text/plain": [
              "<keras.callbacks.History at 0x7f8839d566a0>"
            ]
          },
          "metadata": {
            "tags": []
          },
          "execution_count": 25
        }
      ]
    },
    {
      "cell_type": "code",
      "metadata": {
        "id": "kJI46ltGgv75",
        "colab_type": "code",
        "colab": {
          "base_uri": "https://localhost:8080/",
          "height": 35
        },
        "outputId": "7236dedb-4e3f-4787-c46f-76af55046e38"
      },
      "source": [
        "#let's see the results\n",
        "results = model.evaluate(x_val, y_val)"
      ],
      "execution_count": 26,
      "outputs": [
        {
          "output_type": "stream",
          "text": [
            "15000/15000 [==============================] - 0s 26us/step\n"
          ],
          "name": "stdout"
        }
      ]
    },
    {
      "cell_type": "code",
      "metadata": {
        "id": "aBwF1fpdhQbl",
        "colab_type": "code",
        "colab": {
          "base_uri": "https://localhost:8080/",
          "height": 35
        },
        "outputId": "46fe6ff3-48b3-4a3b-d023-1883be6c689d"
      },
      "source": [
        "print('Test accuracy: ', results[1])"
      ],
      "execution_count": 27,
      "outputs": [
        {
          "output_type": "stream",
          "text": [
            "Test accuracy:  0.9964666666666666\n"
          ],
          "name": "stdout"
        }
      ]
    },
    {
      "cell_type": "code",
      "metadata": {
        "id": "oFeW-foKhULO",
        "colab_type": "code",
        "colab": {
          "base_uri": "https://localhost:8080/",
          "height": 35
        },
        "outputId": "666dad0e-16a9-4f2b-e3ae-f96426d535e9"
      },
      "source": [
        "pred = model.predict(test_prc)\n",
        "len(pred)"
      ],
      "execution_count": 28,
      "outputs": [
        {
          "output_type": "execute_result",
          "data": {
            "text/plain": [
              "45019"
            ]
          },
          "metadata": {
            "tags": []
          },
          "execution_count": 28
        }
      ]
    },
    {
      "cell_type": "code",
      "metadata": {
        "id": "Cw-Nqwe1tIyy",
        "colab_type": "code",
        "colab": {}
      },
      "source": [
        "#let's make a sample submission\n",
        "data = pd.DataFrame({\n",
        " 'TransactionId':TransactionID,\n",
        " 'FraudResult':pred[:,0]   \n",
        "})"
      ],
      "execution_count": 0,
      "outputs": []
    },
    {
      "cell_type": "code",
      "metadata": {
        "id": "eElBbr3XuflS",
        "colab_type": "code",
        "colab": {
          "base_uri": "https://localhost:8080/",
          "height": 48
        },
        "outputId": "57b56bfe-b6ce-4095-8cff-130e47e21ed5"
      },
      "source": [
        "#data.set_index('TransactionId',inplace=True)\n",
        "data[data['FraudResult']==1] #I am not getting any scores on the fraud cases so this model can't be true"
      ],
      "execution_count": 30,
      "outputs": [
        {
          "output_type": "execute_result",
          "data": {
            "text/html": [
              "<div>\n",
              "<style scoped>\n",
              "    .dataframe tbody tr th:only-of-type {\n",
              "        vertical-align: middle;\n",
              "    }\n",
              "\n",
              "    .dataframe tbody tr th {\n",
              "        vertical-align: top;\n",
              "    }\n",
              "\n",
              "    .dataframe thead th {\n",
              "        text-align: right;\n",
              "    }\n",
              "</style>\n",
              "<table border=\"1\" class=\"dataframe\">\n",
              "  <thead>\n",
              "    <tr style=\"text-align: right;\">\n",
              "      <th></th>\n",
              "      <th>TransactionId</th>\n",
              "      <th>FraudResult</th>\n",
              "    </tr>\n",
              "  </thead>\n",
              "  <tbody>\n",
              "  </tbody>\n",
              "</table>\n",
              "</div>"
            ],
            "text/plain": [
              "Empty DataFrame\n",
              "Columns: [TransactionId, FraudResult]\n",
              "Index: []"
            ]
          },
          "metadata": {
            "tags": []
          },
          "execution_count": 30
        }
      ]
    },
    {
      "cell_type": "markdown",
      "metadata": {
        "id": "FDTkG7HTh2jh",
        "colab_type": "text"
      },
      "source": [
        "## Second Attempt \n",
        "\n",
        "This time we want to scale the data (missed to do that before)"
      ]
    },
    {
      "cell_type": "code",
      "metadata": {
        "id": "ZJpB2qOqiLSp",
        "colab_type": "code",
        "colab": {}
      },
      "source": [
        "from sklearn.preprocessing  import StandardScaler\n",
        "\n",
        "#Create a standardscaler instance and fit the data\n",
        "scaler = StandardScaler()\n",
        "x_train_sc = scaler.fit_transform(x_train)\n",
        "x_test_sc = scaler.fit_transform(x_test)\n",
        "x_val_sc = scaler.fit_transform(x_val)"
      ],
      "execution_count": 0,
      "outputs": []
    },
    {
      "cell_type": "code",
      "metadata": {
        "id": "51jWqfXkiv1p",
        "colab_type": "code",
        "colab": {
          "base_uri": "https://localhost:8080/",
          "height": 175
        },
        "outputId": "34a25a8a-75d7-4a87-9554-5c9db2b56a26"
      },
      "source": [
        "model  = Sequential()\n",
        "model.add(Dense(512,input_dim = x_train_sc.shape[1],activation=\"relu\"))\n",
        "model.add(Dense(1,activation = \"relu\"))\n",
        "\n",
        "model.compile(optimizer = \"Adam\",loss=\"binary_crossentropy\",metrics=[\"accuracy\"])\n",
        "\n",
        "model.fit(x_train_sc,y_train, validation_data = (x_val_sc,y_val),epochs=3, batch_size=64)"
      ],
      "execution_count": 33,
      "outputs": [
        {
          "output_type": "stream",
          "text": [
            "Train on 128844 samples, validate on 15000 samples\n",
            "Epoch 1/3\n",
            "128844/128844 [==============================] - 5s 40us/step - loss: 0.2416 - acc: 0.6151 - val_loss: 0.6816 - val_acc: 0.9241\n",
            "Epoch 2/3\n",
            "128844/128844 [==============================] - 5s 37us/step - loss: 0.0152 - acc: 0.6167 - val_loss: 0.8592 - val_acc: 0.9163\n",
            "Epoch 3/3\n",
            "128844/128844 [==============================] - 5s 38us/step - loss: 0.0189 - acc: 0.5529 - val_loss: 0.4386 - val_acc: 0.9532\n"
          ],
          "name": "stdout"
        },
        {
          "output_type": "execute_result",
          "data": {
            "text/plain": [
              "<keras.callbacks.History at 0x7f88390c2470>"
            ]
          },
          "metadata": {
            "tags": []
          },
          "execution_count": 33
        }
      ]
    },
    {
      "cell_type": "code",
      "metadata": {
        "id": "NNcj4tADj4Ko",
        "colab_type": "code",
        "colab": {
          "base_uri": "https://localhost:8080/",
          "height": 35
        },
        "outputId": "6cbe64c9-62c6-404f-bd3f-75913f5aaa9a"
      },
      "source": [
        "results = model.evaluate(x_val, y_val)"
      ],
      "execution_count": 34,
      "outputs": [
        {
          "output_type": "stream",
          "text": [
            "15000/15000 [==============================] - 0s 27us/step\n"
          ],
          "name": "stdout"
        }
      ]
    },
    {
      "cell_type": "code",
      "metadata": {
        "id": "0OJ6TllnzBq9",
        "colab_type": "code",
        "colab": {
          "base_uri": "https://localhost:8080/",
          "height": 35
        },
        "outputId": "ea42bc1d-b542-467f-8299-0a0337881638"
      },
      "source": [
        "print('Test accuracy: ', results[1])"
      ],
      "execution_count": 35,
      "outputs": [
        {
          "output_type": "stream",
          "text": [
            "Test accuracy:  0.0\n"
          ],
          "name": "stdout"
        }
      ]
    },
    {
      "cell_type": "markdown",
      "metadata": {
        "id": "pgUNA-DLkS-Z",
        "colab_type": "text"
      },
      "source": [
        "## Third Attempt\n",
        "\n",
        "Let's add two medium dense layers to see if our predictions become better."
      ]
    },
    {
      "cell_type": "code",
      "metadata": {
        "id": "jdruzM1zkcuq",
        "colab_type": "code",
        "colab": {
          "base_uri": "https://localhost:8080/",
          "height": 155
        },
        "outputId": "60136b4a-b9fc-4f13-e8bd-3b2088573caf"
      },
      "source": [
        "model  = Sequential()\n",
        "model.add(Dense(512,input_dim = x_train_sc.shape[1],activation=\"relu\"))\n",
        "model.add(Dense(512,activation=\"relu\"))\n",
        "model.add(Dense(1,activation = \"sigmoid\"))\n",
        "\n",
        "model.compile(optimizer = \"Adam\",loss=\"binary_crossentropy\",metrics=[\"accuracy\"])\n",
        "\n",
        "model.fit(x_train_sc,y_train_subsample, validation_data = (x_val_sc,y_val),epochs=3, batch_size=64)"
      ],
      "execution_count": 107,
      "outputs": [
        {
          "output_type": "stream",
          "text": [
            "Train on 214 samples, validate on 15000 samples\n",
            "Epoch 1/3\n",
            "214/214 [==============================] - 2s 8ms/step - loss: 0.5972 - acc: 0.7150 - val_loss: 0.6502 - val_acc: 0.6416\n",
            "Epoch 2/3\n",
            "214/214 [==============================] - 0s 2ms/step - loss: 0.2771 - acc: 0.9065 - val_loss: 0.9070 - val_acc: 0.5734\n",
            "Epoch 3/3\n",
            "214/214 [==============================] - 0s 2ms/step - loss: 0.1632 - acc: 0.9439 - val_loss: 0.9722 - val_acc: 0.6383\n"
          ],
          "name": "stdout"
        },
        {
          "output_type": "execute_result",
          "data": {
            "text/plain": [
              "<keras.callbacks.History at 0x7fec78751588>"
            ]
          },
          "metadata": {
            "tags": []
          },
          "execution_count": 107
        }
      ]
    },
    {
      "cell_type": "code",
      "metadata": {
        "id": "bgcwbQ-Okqsm",
        "colab_type": "code",
        "colab": {
          "base_uri": "https://localhost:8080/",
          "height": 35
        },
        "outputId": "8162b0cc-ded6-43e7-a3b8-bbade6095494"
      },
      "source": [
        "results = model.evaluate(x_test_sc, y_test)"
      ],
      "execution_count": 108,
      "outputs": [
        {
          "output_type": "stream",
          "text": [
            "16133/16133 [==============================] - 1s 53us/step\n"
          ],
          "name": "stdout"
        }
      ]
    },
    {
      "cell_type": "code",
      "metadata": {
        "id": "X1CmPmbfk0BV",
        "colab_type": "code",
        "colab": {
          "base_uri": "https://localhost:8080/",
          "height": 35
        },
        "outputId": "3dce7296-0ab7-40a6-bee2-3a8f5f68202e"
      },
      "source": [
        "print('Test accuracy: ', results[1])"
      ],
      "execution_count": 109,
      "outputs": [
        {
          "output_type": "stream",
          "text": [
            "Test accuracy:  0.6561085972887625\n"
          ],
          "name": "stdout"
        }
      ]
    },
    {
      "cell_type": "code",
      "metadata": {
        "id": "UjwEO5yqk4hX",
        "colab_type": "code",
        "colab": {}
      },
      "source": [
        ""
      ],
      "execution_count": 0,
      "outputs": []
    },
    {
      "cell_type": "markdown",
      "metadata": {
        "id": "9ZXL89T_lMGJ",
        "colab_type": "text"
      },
      "source": [
        "## Fourth Attempt\n",
        "\n",
        "Let's design two large layers"
      ]
    },
    {
      "cell_type": "code",
      "metadata": {
        "id": "wii0yyZElYtY",
        "colab_type": "code",
        "colab": {
          "base_uri": "https://localhost:8080/",
          "height": 175
        },
        "outputId": "cff7340f-43a6-459e-d118-dd55dd2574dc"
      },
      "source": [
        "model  = Sequential()\n",
        "model.add(Dense(1024,input_dim = x_train_sc.shape[1],activation=\"relu\"))\n",
        "model.add(Dense(1024,activation=\"relu\"))\n",
        "model.add(Dense(1,activation = \"sigmoid\"))\n",
        "\n",
        "model.compile(optimizer = \"Adam\",loss=\"binary_crossentropy\",metrics=[\"accuracy\"])\n",
        "\n",
        "model.fit(x_train_sc,y_train_subsample, validation_data = (x_val_sc,y_val),epochs=3, batch_size=64)"
      ],
      "execution_count": 116,
      "outputs": [
        {
          "output_type": "stream",
          "text": [
            "Train on 214 samples, validate on 15000 samples\n",
            "Epoch 1/3\n",
            "214/214 [==============================] - 3s 13ms/step - loss: 0.5234 - acc: 0.7290 - val_loss: 1.1614 - val_acc: 0.4638\n",
            "Epoch 2/3\n",
            "214/214 [==============================] - 1s 5ms/step - loss: 0.2197 - acc: 0.9112 - val_loss: 0.8794 - val_acc: 0.7293\n",
            "Epoch 3/3\n",
            "214/214 [==============================] - 1s 5ms/step - loss: 0.1067 - acc: 0.9673 - val_loss: 1.1494 - val_acc: 0.6808\n"
          ],
          "name": "stdout"
        },
        {
          "output_type": "execute_result",
          "data": {
            "text/plain": [
              "<keras.callbacks.History at 0x7fec76a6c8d0>"
            ]
          },
          "metadata": {
            "tags": []
          },
          "execution_count": 116
        }
      ]
    },
    {
      "cell_type": "code",
      "metadata": {
        "id": "fhFAod2Nlf0Y",
        "colab_type": "code",
        "colab": {
          "base_uri": "https://localhost:8080/",
          "height": 35
        },
        "outputId": "b2db1073-d3f6-48d0-b823-e33075d08a48"
      },
      "source": [
        "results = model.evaluate(x_test_sc, y_test)\n"
      ],
      "execution_count": 117,
      "outputs": [
        {
          "output_type": "stream",
          "text": [
            "16133/16133 [==============================] - 2s 118us/step\n"
          ],
          "name": "stdout"
        }
      ]
    },
    {
      "cell_type": "code",
      "metadata": {
        "id": "lS4DEw_JljYe",
        "colab_type": "code",
        "colab": {
          "base_uri": "https://localhost:8080/",
          "height": 35
        },
        "outputId": "dd2b1b31-5fc4-41e0-e5a8-258b29adc67d"
      },
      "source": [
        "print('Test accuracy: ', results[1])\n",
        "#The accuracy increased when we increased the layers"
      ],
      "execution_count": 118,
      "outputs": [
        {
          "output_type": "stream",
          "text": [
            "Test accuracy:  0.6471827930329139\n"
          ],
          "name": "stdout"
        }
      ]
    },
    {
      "cell_type": "code",
      "metadata": {
        "id": "LG9BCPfxlryM",
        "colab_type": "code",
        "colab": {}
      },
      "source": [
        ""
      ],
      "execution_count": 0,
      "outputs": []
    },
    {
      "cell_type": "markdown",
      "metadata": {
        "id": "nDpuNrucl2FF",
        "colab_type": "text"
      },
      "source": [
        "## Fifth Attempt\n",
        "\n",
        "I am going to add 4 large layers and run them 20 epochs"
      ]
    },
    {
      "cell_type": "code",
      "metadata": {
        "id": "YkO5SdROmCQ7",
        "colab_type": "code",
        "colab": {
          "base_uri": "https://localhost:8080/",
          "height": 1000
        },
        "outputId": "a2e913e9-c7b3-4dd8-a3b5-f492351d0ca3"
      },
      "source": [
        "model  = Sequential()\n",
        "model.add(Dense(1024,input_dim = x_train_sc.shape[1],activation=\"relu\"))\n",
        "model.add(Dense(102,activation=\"relu\"))\n",
        "model.add(Dense(1024,activation=\"relu\"))\n",
        "model.add(Dense(1,activation = \"sigmoid\"))\n",
        "\n",
        "model.compile(optimizer = \"Adam\",loss=\"binary_crossentropy\",metrics=[\"accuracy\"])\n",
        "\n",
        "model.fit(x_train_sc,y_train, validation_data = (x_val_sc,y_val),epochs=50, batch_size=64)"
      ],
      "execution_count": 37,
      "outputs": [
        {
          "output_type": "stream",
          "text": [
            "Train on 128844 samples, validate on 15000 samples\n",
            "Epoch 1/50\n",
            "128844/128844 [==============================] - 25s 191us/step - loss: 0.0101 - acc: 0.9972 - val_loss: 0.1466 - val_acc: 0.9629\n",
            "Epoch 2/50\n",
            "128844/128844 [==============================] - 22s 174us/step - loss: 0.0039 - acc: 0.9993 - val_loss: 0.2227 - val_acc: 0.9476\n",
            "Epoch 3/50\n",
            "128844/128844 [==============================] - 23s 181us/step - loss: 0.0030 - acc: 0.9995 - val_loss: 0.1086 - val_acc: 0.9743\n",
            "Epoch 4/50\n",
            "128844/128844 [==============================] - 22s 173us/step - loss: 0.0028 - acc: 0.9995 - val_loss: 0.1562 - val_acc: 0.9721\n",
            "Epoch 5/50\n",
            "128844/128844 [==============================] - 24s 185us/step - loss: 0.0021 - acc: 0.9996 - val_loss: 0.2761 - val_acc: 0.9549\n",
            "Epoch 6/50\n",
            "128844/128844 [==============================] - 23s 181us/step - loss: 0.0025 - acc: 0.9996 - val_loss: 0.2349 - val_acc: 0.9666\n",
            "Epoch 7/50\n",
            "128844/128844 [==============================] - 21s 160us/step - loss: 0.0020 - acc: 0.9997 - val_loss: 0.6879 - val_acc: 0.8924\n",
            "Epoch 8/50\n",
            "128844/128844 [==============================] - 17s 134us/step - loss: 0.0034 - acc: 0.9995 - val_loss: 0.3049 - val_acc: 0.9431\n",
            "Epoch 9/50\n",
            "128844/128844 [==============================] - 18s 136us/step - loss: 0.0020 - acc: 0.9998 - val_loss: 0.3928 - val_acc: 0.9501\n",
            "Epoch 10/50\n",
            "128844/128844 [==============================] - 18s 141us/step - loss: 0.0024 - acc: 0.9997 - val_loss: 0.4617 - val_acc: 0.9505\n",
            "Epoch 11/50\n",
            "128844/128844 [==============================] - 19s 151us/step - loss: 0.0023 - acc: 0.9997 - val_loss: 0.2223 - val_acc: 0.9759\n",
            "Epoch 12/50\n",
            "128844/128844 [==============================] - 21s 166us/step - loss: 0.0016 - acc: 0.9999 - val_loss: 0.8265 - val_acc: 0.9329\n",
            "Epoch 13/50\n",
            "128844/128844 [==============================] - 21s 161us/step - loss: 0.0053 - acc: 0.9995 - val_loss: 0.2275 - val_acc: 0.9690\n",
            "Epoch 14/50\n",
            "128844/128844 [==============================] - 20s 154us/step - loss: 9.0453e-04 - acc: 0.9999 - val_loss: 0.2194 - val_acc: 0.9757\n",
            "Epoch 15/50\n",
            "128844/128844 [==============================] - 23s 181us/step - loss: 0.0052 - acc: 0.9994 - val_loss: 0.3793 - val_acc: 0.9655\n",
            "Epoch 16/50\n",
            "128844/128844 [==============================] - 19s 148us/step - loss: 0.0013 - acc: 0.9999 - val_loss: 0.4291 - val_acc: 0.9597\n",
            "Epoch 17/50\n",
            "128844/128844 [==============================] - 18s 143us/step - loss: 0.0037 - acc: 0.9996 - val_loss: 0.6708 - val_acc: 0.9398\n",
            "Epoch 18/50\n",
            "128844/128844 [==============================] - 18s 141us/step - loss: 0.0018 - acc: 0.9998 - val_loss: 0.7725 - val_acc: 0.9391\n",
            "Epoch 19/50\n",
            "128844/128844 [==============================] - 21s 160us/step - loss: 0.0024 - acc: 0.9998 - val_loss: 0.5849 - val_acc: 0.9517\n",
            "Epoch 20/50\n",
            "128844/128844 [==============================] - 24s 190us/step - loss: 0.0024 - acc: 0.9998 - val_loss: 0.4462 - val_acc: 0.9613\n",
            "Epoch 21/50\n",
            "128844/128844 [==============================] - 23s 178us/step - loss: 0.0029 - acc: 0.9997 - val_loss: 0.5567 - val_acc: 0.9553\n",
            "Epoch 22/50\n",
            "128844/128844 [==============================] - 20s 158us/step - loss: 0.0011 - acc: 0.9999 - val_loss: 0.5562 - val_acc: 0.9548\n",
            "Epoch 23/50\n",
            "128844/128844 [==============================] - 19s 144us/step - loss: 9.9136e-04 - acc: 0.9999 - val_loss: 0.4271 - val_acc: 0.9665\n",
            "Epoch 24/50\n",
            "128844/128844 [==============================] - 19s 149us/step - loss: 9.5668e-04 - acc: 0.9999 - val_loss: 0.3927 - val_acc: 0.9685\n",
            "Epoch 25/50\n",
            "128844/128844 [==============================] - 22s 174us/step - loss: 9.9004e-04 - acc: 0.9999 - val_loss: 0.3674 - val_acc: 0.9705\n",
            "Epoch 26/50\n",
            "128844/128844 [==============================] - 22s 167us/step - loss: 8.6625e-04 - acc: 0.9999 - val_loss: 0.3614 - val_acc: 0.9711\n",
            "Epoch 27/50\n",
            "128844/128844 [==============================] - 23s 175us/step - loss: 8.6625e-04 - acc: 0.9999 - val_loss: 0.3626 - val_acc: 0.9710\n",
            "Epoch 28/50\n",
            "128844/128844 [==============================] - 20s 159us/step - loss: 8.6625e-04 - acc: 0.9999 - val_loss: 0.3637 - val_acc: 0.9710\n",
            "Epoch 29/50\n",
            "128844/128844 [==============================] - 22s 169us/step - loss: 8.6625e-04 - acc: 0.9999 - val_loss: 0.3647 - val_acc: 0.9709\n",
            "Epoch 30/50\n",
            "128844/128844 [==============================] - 21s 164us/step - loss: 8.6625e-04 - acc: 0.9999 - val_loss: 0.3656 - val_acc: 0.9709\n",
            "Epoch 31/50\n",
            "128844/128844 [==============================] - 22s 169us/step - loss: 8.6625e-04 - acc: 0.9999 - val_loss: 0.3662 - val_acc: 0.9707\n",
            "Epoch 32/50\n",
            "128844/128844 [==============================] - 21s 160us/step - loss: 8.6625e-04 - acc: 0.9999 - val_loss: 0.3666 - val_acc: 0.9707\n",
            "Epoch 33/50\n",
            "128844/128844 [==============================] - 18s 143us/step - loss: 8.6625e-04 - acc: 0.9999 - val_loss: 0.3664 - val_acc: 0.9708\n",
            "Epoch 34/50\n",
            "128844/128844 [==============================] - 17s 134us/step - loss: 8.6625e-04 - acc: 0.9999 - val_loss: 0.3666 - val_acc: 0.9708\n",
            "Epoch 35/50\n",
            "128844/128844 [==============================] - 18s 141us/step - loss: 8.6625e-04 - acc: 0.9999 - val_loss: 0.3667 - val_acc: 0.9708\n",
            "Epoch 36/50\n",
            "128844/128844 [==============================] - 18s 142us/step - loss: 8.6625e-04 - acc: 0.9999 - val_loss: 0.3668 - val_acc: 0.9709\n",
            "Epoch 37/50\n",
            "128844/128844 [==============================] - 16s 126us/step - loss: 8.6625e-04 - acc: 0.9999 - val_loss: 0.3673 - val_acc: 0.9709\n",
            "Epoch 38/50\n",
            "128844/128844 [==============================] - 17s 134us/step - loss: 8.6625e-04 - acc: 0.9999 - val_loss: 0.3671 - val_acc: 0.9709\n",
            "Epoch 39/50\n",
            "128844/128844 [==============================] - 16s 126us/step - loss: 8.6625e-04 - acc: 0.9999 - val_loss: 0.3670 - val_acc: 0.9709\n",
            "Epoch 40/50\n",
            "128844/128844 [==============================] - 17s 130us/step - loss: 8.6625e-04 - acc: 0.9999 - val_loss: 0.3670 - val_acc: 0.9709\n",
            "Epoch 41/50\n",
            "128844/128844 [==============================] - 17s 129us/step - loss: 8.6625e-04 - acc: 0.9999 - val_loss: 0.3670 - val_acc: 0.9709\n",
            "Epoch 42/50\n",
            "128844/128844 [==============================] - 16s 128us/step - loss: 8.6625e-04 - acc: 0.9999 - val_loss: 0.3670 - val_acc: 0.9709\n",
            "Epoch 43/50\n",
            "128844/128844 [==============================] - 17s 129us/step - loss: 8.6625e-04 - acc: 0.9999 - val_loss: 0.3670 - val_acc: 0.9709\n",
            "Epoch 44/50\n",
            "128844/128844 [==============================] - 17s 133us/step - loss: 8.6625e-04 - acc: 0.9999 - val_loss: 0.3670 - val_acc: 0.9709\n",
            "Epoch 45/50\n",
            "128844/128844 [==============================] - 19s 149us/step - loss: 8.6625e-04 - acc: 0.9999 - val_loss: 0.3670 - val_acc: 0.9709\n",
            "Epoch 46/50\n",
            "128844/128844 [==============================] - 18s 137us/step - loss: 8.6625e-04 - acc: 0.9999 - val_loss: 0.3670 - val_acc: 0.9709\n",
            "Epoch 47/50\n",
            "128844/128844 [==============================] - 18s 142us/step - loss: 8.6625e-04 - acc: 0.9999 - val_loss: 0.3670 - val_acc: 0.9709\n",
            "Epoch 48/50\n",
            "128844/128844 [==============================] - 17s 129us/step - loss: 8.6625e-04 - acc: 0.9999 - val_loss: 0.3670 - val_acc: 0.9709\n",
            "Epoch 49/50\n",
            "128844/128844 [==============================] - 17s 133us/step - loss: 8.6625e-04 - acc: 0.9999 - val_loss: 0.3670 - val_acc: 0.9709\n",
            "Epoch 50/50\n",
            "128844/128844 [==============================] - 17s 135us/step - loss: 8.6625e-04 - acc: 0.9999 - val_loss: 0.3670 - val_acc: 0.9709\n"
          ],
          "name": "stdout"
        },
        {
          "output_type": "execute_result",
          "data": {
            "text/plain": [
              "<keras.callbacks.History at 0x7f88386416a0>"
            ]
          },
          "metadata": {
            "tags": []
          },
          "execution_count": 37
        }
      ]
    },
    {
      "cell_type": "code",
      "metadata": {
        "id": "UBsJAaKjmKoy",
        "colab_type": "code",
        "colab": {
          "base_uri": "https://localhost:8080/",
          "height": 35
        },
        "outputId": "6c7c92db-91dc-4446-b07e-c842f1adae95"
      },
      "source": [
        "results = model.evaluate(x_test_sc, y_test)"
      ],
      "execution_count": 38,
      "outputs": [
        {
          "output_type": "stream",
          "text": [
            "16133/16133 [==============================] - 1s 49us/step\n"
          ],
          "name": "stdout"
        }
      ]
    },
    {
      "cell_type": "code",
      "metadata": {
        "id": "p3pjI1bDmXC4",
        "colab_type": "code",
        "colab": {
          "base_uri": "https://localhost:8080/",
          "height": 35
        },
        "outputId": "8f1346a9-c9ea-4b58-9930-82eb02d7e6bc"
      },
      "source": [
        "print('Test accuracy: ', results[1])"
      ],
      "execution_count": 39,
      "outputs": [
        {
          "output_type": "stream",
          "text": [
            "Test accuracy:  0.9514659393789128\n"
          ],
          "name": "stdout"
        }
      ]
    },
    {
      "cell_type": "code",
      "metadata": {
        "id": "G61vWn5f3yBK",
        "colab_type": "code",
        "colab": {}
      },
      "source": [
        ""
      ],
      "execution_count": 0,
      "outputs": []
    }
  ]
}