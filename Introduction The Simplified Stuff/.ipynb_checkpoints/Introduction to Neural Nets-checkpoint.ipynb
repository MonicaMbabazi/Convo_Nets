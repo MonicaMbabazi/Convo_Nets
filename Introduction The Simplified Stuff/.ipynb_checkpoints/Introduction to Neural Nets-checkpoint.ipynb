{
 "cells": [
  {
   "cell_type": "markdown",
   "metadata": {},
   "source": [
    "## Introduction to CNN\n",
    "\n",
    "By `Atwine Mugume Twinamatsiko`\n",
    "\n",
    "Let me make things clear so that you wil lknow if this is for you or not.\n",
    "\n",
    "By the time I wrote this I was working on a certain project that needed me to learn how to use Convolution nets.\n",
    "\n",
    "The Introduction to Deep Learning (DL) will be general but eventually I want to concentrate on CNNs in this class\n",
    "\n",
    "I will be using the Keras library which is built on tensoflow.\n",
    "\n",
    "PS: **My computer is does not have a GPU so this is how I am working with this:**\n",
    "- Create a repository\n",
    "- Create a Google Colab account\n",
    "- Use the Google colab account to run your code, through their integrated inteface with GitHub\n",
    "\n",
    "That should make your life easy.\n",
    "\n",
    "## Why Keras?\n",
    "\n",
    "I am choosing to use Keras because it is less robust and it is a high level DL language meaning, if I had to implelent these codes in Tensorflow there would be so much code to write.\n",
    "\n",
    "Keras creates some sort of abstraction over the low lever support language like Tf which makes it easy for you and me to build neural nets easily\n",
    "\n",
    "    \"Keras is a high-level neural network API written in Python and can\n",
    "    help you in developing a fully functional DL model with less than 15 lines\n",
    "    of code. Since it is written in Python, it has a larger community of users\n",
    "    and supporters and is extremely easy to get started with. The simplicity\n",
    "    of Keras is that it helps users quickly develop DL models and provides\n",
    "    a ton of flexibility while still being a high-level API. This really makes\n",
    "    Keras a special framework to work with.\" Jojo Moolayil"
   ]
  },
  {
   "cell_type": "code",
   "execution_count": null,
   "metadata": {},
   "outputs": [],
   "source": []
  },
  {
   "cell_type": "markdown",
   "metadata": {},
   "source": [
    "## Getting Started with DL in Keras\n",
    "\n",
    "Let’s start by studying the DNN and its logical components, understanding\n",
    "what each component is used for and how these building blocks are\n",
    "mapped in the Keras framework.\n",
    "\n",
    "Let’s look at at these logical components one by one.\n",
    "\n",
    "### Input Data\n",
    "Input data for a DL algorithm can be of a variety of types. Essentially,\n",
    "the model understands data as “tensors”. Tensors are nothing but a\n",
    "generic form for vectors, or in computer engineering terms, a simple\n",
    "n-dimensional matrix. Data of any form is finally represented as a matrix\n",
    "\n",
    "### Neuron\n",
    "At the core of the DNN, we have neurons where computation for an output\n",
    "is executed. A neuron receives one or more inputs from the neurons in\n",
    "the previous layer. If the neurons are in the first hidden layer, they will\n",
    "receive the data from the input data stream.\n",
    "\n",
    "In other words: neurons are like containers which take on some values and by use of some instructions (functions) they pass on a particular message to the next neuron depending on what particular result is needed.\n",
    "\n",
    "\n",
    "### Activation Function\n",
    "An activation function is the function that takes the combined input z as\n",
    "shown in the preceding illustration, applies a function on it, and passes\n",
    "the output value, thus trying to mimic the activate/deactivate function.\n",
    "The activation function, therefore, determines the state of a neuron by\n",
    "computing the activation function on the combined input.\n",
    "\n",
    "In Simple terms: Their main purpose is to convert a input signal of a node in a A-NN to an output signal. That output signal now is used as a input in the next layer in the stack.\n",
    "\n",
    "Please take time to look at this [article](https://towardsdatascience.com/activation-functions-and-its-types-which-is-better-a9a5310cc8f)"
   ]
  },
  {
   "cell_type": "code",
   "execution_count": null,
   "metadata": {},
   "outputs": [],
   "source": []
  }
 ],
 "metadata": {
  "kernelspec": {
   "display_name": "Python 3",
   "language": "python",
   "name": "python3"
  },
  "language_info": {
   "codemirror_mode": {
    "name": "ipython",
    "version": 3
   },
   "file_extension": ".py",
   "mimetype": "text/x-python",
   "name": "python",
   "nbconvert_exporter": "python",
   "pygments_lexer": "ipython3",
   "version": "3.6.4"
  }
 },
 "nbformat": 4,
 "nbformat_minor": 2
}
