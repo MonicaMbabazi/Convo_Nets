{
 "cells": [
  {
   "cell_type": "markdown",
   "metadata": {},
   "source": [
    "## Xente Solution\n",
    "\n",
    "In this notebook I have somethings I want to try out.\n",
    "\n",
    "- The keras-pandas library: this is a library that helps in data preparation, the data once done, its ready to be used in a normal Machine Learning algorith or it can be used in a neural net.\n",
    "\n",
    "I want to test this today and I see how it stacks up on the leader board, that is the score on the neural net."
   ]
  },
  {
   "cell_type": "code",
   "execution_count": 1,
   "metadata": {},
   "outputs": [
    {
     "name": "stderr",
     "output_type": "stream",
     "text": [
      "Using TensorFlow backend.\n"
     ]
    }
   ],
   "source": [
    "#lets import the modules we are going to work with\n",
    "import pandas as pd\n",
    "import numpy as np\n",
    "import matplotlib.pyplot as plt\n",
    "\n",
    "from keras import Sequential\n",
    "from keras.layers import Dense\n",
    "\n",
    "from keras_pandas import lib\n",
    "from keras_pandas.Automater import Automater\n",
    "from sklearn.model_selection import train_test_split\n",
    "\n",
    "import warnings\n",
    "warnings.filterwarnings('ignore')"
   ]
  },
  {
   "cell_type": "code",
   "execution_count": 2,
   "metadata": {},
   "outputs": [],
   "source": [
    "#let's read in the data\n",
    "train = pd.read_csv('training.csv',parse_dates=['TransactionStartTime'])\n",
    "test = pd.read_csv('test.csv',parse_dates=['TransactionStartTime'])"
   ]
  },
  {
   "cell_type": "code",
   "execution_count": 3,
   "metadata": {},
   "outputs": [
    {
     "name": "stdout",
     "output_type": "stream",
     "text": [
      "<class 'pandas.core.frame.DataFrame'>\n",
      "RangeIndex: 95662 entries, 0 to 95661\n",
      "Data columns (total 16 columns):\n",
      "TransactionId           95662 non-null object\n",
      "BatchId                 95662 non-null object\n",
      "AccountId               95662 non-null object\n",
      "SubscriptionId          95662 non-null object\n",
      "CustomerId              95662 non-null object\n",
      "CurrencyCode            95662 non-null object\n",
      "CountryCode             95662 non-null int64\n",
      "ProviderId              95662 non-null object\n",
      "ProductId               95662 non-null object\n",
      "ProductCategory         95662 non-null object\n",
      "ChannelId               95662 non-null object\n",
      "Amount                  95662 non-null float64\n",
      "Value                   95662 non-null int64\n",
      "TransactionStartTime    95662 non-null datetime64[ns]\n",
      "PricingStrategy         95662 non-null int64\n",
      "FraudResult             95662 non-null int64\n",
      "dtypes: datetime64[ns](1), float64(1), int64(4), object(10)\n",
      "memory usage: 11.7+ MB\n"
     ]
    }
   ],
   "source": [
    "#let see the data we are looking at, specifically the data types\n",
    "train.info()"
   ]
  },
  {
   "cell_type": "code",
   "execution_count": 4,
   "metadata": {},
   "outputs": [
    {
     "data": {
      "text/plain": [
       "((95662, 16), (45019, 15))"
      ]
     },
     "execution_count": 4,
     "metadata": {},
     "output_type": "execute_result"
    }
   ],
   "source": [
    "#we have some object variables and numerical\n",
    "#how big is our dataset\n",
    "train.shape, test.shape"
   ]
  },
  {
   "cell_type": "code",
   "execution_count": 5,
   "metadata": {},
   "outputs": [],
   "source": [
    "#there are some columns we don't need ie transaction id for both datasets\n",
    "fin_id = test['TransactionId'].values\n",
    "test.drop(columns=['TransactionId','CurrencyCode','CountryCode','Amount'],inplace=True)\n",
    "train.drop(columns=['TransactionId','CurrencyCode','CountryCode','Amount'],inplace=True)"
   ]
  },
  {
   "cell_type": "code",
   "execution_count": 6,
   "metadata": {},
   "outputs": [],
   "source": [
    "ob_col = [col for col in train.columns if train[col].dtype=='object']\n",
    "num_col = [col for col in train.columns if train[col].dtype!='object']"
   ]
  },
  {
   "cell_type": "code",
   "execution_count": 8,
   "metadata": {},
   "outputs": [
    {
     "data": {
      "text/plain": [
       "['Value', 'TransactionStartTime', 'PricingStrategy', 'FraudResult']"
      ]
     },
     "execution_count": 8,
     "metadata": {},
     "output_type": "execute_result"
    }
   ],
   "source": [
    "num_col"
   ]
  },
  {
   "cell_type": "code",
   "execution_count": 9,
   "metadata": {},
   "outputs": [],
   "source": [
    "# TODO Train /test split\n",
    "x_train_, x_test_ = train_test_split(train)"
   ]
  },
  {
   "cell_type": "code",
   "execution_count": 10,
   "metadata": {},
   "outputs": [
    {
     "data": {
      "text/html": [
       "<div>\n",
       "<style scoped>\n",
       "    .dataframe tbody tr th:only-of-type {\n",
       "        vertical-align: middle;\n",
       "    }\n",
       "\n",
       "    .dataframe tbody tr th {\n",
       "        vertical-align: top;\n",
       "    }\n",
       "\n",
       "    .dataframe thead th {\n",
       "        text-align: right;\n",
       "    }\n",
       "</style>\n",
       "<table border=\"1\" class=\"dataframe\">\n",
       "  <thead>\n",
       "    <tr style=\"text-align: right;\">\n",
       "      <th></th>\n",
       "      <th>BatchId</th>\n",
       "      <th>AccountId</th>\n",
       "      <th>SubscriptionId</th>\n",
       "      <th>CustomerId</th>\n",
       "      <th>ProviderId</th>\n",
       "      <th>ProductId</th>\n",
       "      <th>ProductCategory</th>\n",
       "      <th>ChannelId</th>\n",
       "      <th>Value</th>\n",
       "      <th>TransactionStartTime</th>\n",
       "      <th>PricingStrategy</th>\n",
       "      <th>FraudResult</th>\n",
       "    </tr>\n",
       "  </thead>\n",
       "  <tbody>\n",
       "    <tr>\n",
       "      <th>94554</th>\n",
       "      <td>BatchId_35942</td>\n",
       "      <td>AccountId_2467</td>\n",
       "      <td>SubscriptionId_301</td>\n",
       "      <td>CustomerId_2883</td>\n",
       "      <td>ProviderId_6</td>\n",
       "      <td>ProductId_20</td>\n",
       "      <td>ticket</td>\n",
       "      <td>ChannelId_3</td>\n",
       "      <td>500</td>\n",
       "      <td>2019-02-12 10:18:20</td>\n",
       "      <td>2</td>\n",
       "      <td>0</td>\n",
       "    </tr>\n",
       "    <tr>\n",
       "      <th>66130</th>\n",
       "      <td>BatchId_25998</td>\n",
       "      <td>AccountId_3391</td>\n",
       "      <td>SubscriptionId_3948</td>\n",
       "      <td>CustomerId_3825</td>\n",
       "      <td>ProviderId_6</td>\n",
       "      <td>ProductId_10</td>\n",
       "      <td>airtime</td>\n",
       "      <td>ChannelId_3</td>\n",
       "      <td>1000</td>\n",
       "      <td>2019-01-20 11:48:05</td>\n",
       "      <td>2</td>\n",
       "      <td>0</td>\n",
       "    </tr>\n",
       "    <tr>\n",
       "      <th>37961</th>\n",
       "      <td>BatchId_27262</td>\n",
       "      <td>AccountId_2910</td>\n",
       "      <td>SubscriptionId_1817</td>\n",
       "      <td>CustomerId_3334</td>\n",
       "      <td>ProviderId_6</td>\n",
       "      <td>ProductId_3</td>\n",
       "      <td>airtime</td>\n",
       "      <td>ChannelId_3</td>\n",
       "      <td>1100</td>\n",
       "      <td>2018-12-23 08:44:18</td>\n",
       "      <td>2</td>\n",
       "      <td>0</td>\n",
       "    </tr>\n",
       "    <tr>\n",
       "      <th>79327</th>\n",
       "      <td>BatchId_117509</td>\n",
       "      <td>AccountId_3175</td>\n",
       "      <td>SubscriptionId_3439</td>\n",
       "      <td>CustomerId_3602</td>\n",
       "      <td>ProviderId_5</td>\n",
       "      <td>ProductId_3</td>\n",
       "      <td>airtime</td>\n",
       "      <td>ChannelId_3</td>\n",
       "      <td>1800</td>\n",
       "      <td>2019-01-31 13:54:18</td>\n",
       "      <td>4</td>\n",
       "      <td>0</td>\n",
       "    </tr>\n",
       "    <tr>\n",
       "      <th>12253</th>\n",
       "      <td>BatchId_55809</td>\n",
       "      <td>AccountId_383</td>\n",
       "      <td>SubscriptionId_3299</td>\n",
       "      <td>CustomerId_713</td>\n",
       "      <td>ProviderId_6</td>\n",
       "      <td>ProductId_3</td>\n",
       "      <td>airtime</td>\n",
       "      <td>ChannelId_3</td>\n",
       "      <td>10000</td>\n",
       "      <td>2018-11-30 18:37:09</td>\n",
       "      <td>2</td>\n",
       "      <td>0</td>\n",
       "    </tr>\n",
       "  </tbody>\n",
       "</table>\n",
       "</div>"
      ],
      "text/plain": [
       "              BatchId       AccountId       SubscriptionId       CustomerId  \\\n",
       "94554   BatchId_35942  AccountId_2467   SubscriptionId_301  CustomerId_2883   \n",
       "66130   BatchId_25998  AccountId_3391  SubscriptionId_3948  CustomerId_3825   \n",
       "37961   BatchId_27262  AccountId_2910  SubscriptionId_1817  CustomerId_3334   \n",
       "79327  BatchId_117509  AccountId_3175  SubscriptionId_3439  CustomerId_3602   \n",
       "12253   BatchId_55809   AccountId_383  SubscriptionId_3299   CustomerId_713   \n",
       "\n",
       "         ProviderId     ProductId ProductCategory    ChannelId  Value  \\\n",
       "94554  ProviderId_6  ProductId_20          ticket  ChannelId_3    500   \n",
       "66130  ProviderId_6  ProductId_10         airtime  ChannelId_3   1000   \n",
       "37961  ProviderId_6   ProductId_3         airtime  ChannelId_3   1100   \n",
       "79327  ProviderId_5   ProductId_3         airtime  ChannelId_3   1800   \n",
       "12253  ProviderId_6   ProductId_3         airtime  ChannelId_3  10000   \n",
       "\n",
       "      TransactionStartTime  PricingStrategy  FraudResult  \n",
       "94554  2019-02-12 10:18:20                2            0  \n",
       "66130  2019-01-20 11:48:05                2            0  \n",
       "37961  2018-12-23 08:44:18                2            0  \n",
       "79327  2019-01-31 13:54:18                4            0  \n",
       "12253  2018-11-30 18:37:09                2            0  "
      ]
     },
     "execution_count": 10,
     "metadata": {},
     "output_type": "execute_result"
    }
   ],
   "source": [
    "x_train_.head()"
   ]
  },
  {
   "cell_type": "code",
   "execution_count": 11,
   "metadata": {},
   "outputs": [],
   "source": [
    "# TODO List out variable types\n",
    "\n",
    "data_type_dict = {'numerical': num_col,\n",
    "                      'categorical': ob_col,\n",
    "                    }\n",
    "output_var = 'FraudResult'"
   ]
  },
  {
   "cell_type": "code",
   "execution_count": 12,
   "metadata": {},
   "outputs": [
    {
     "data": {
      "text/plain": [
       "<keras_pandas.Automater.Automater at 0x1a33aa8080>"
      ]
     },
     "execution_count": 12,
     "metadata": {},
     "output_type": "execute_result"
    }
   ],
   "source": [
    "# Create and fit Automater\n",
    "# This is the best part of this module, here it prepares the data for any machine learning model, neural nets\n",
    "# or other models.\n",
    "# let's see how it does that now\n",
    "auto = Automater(data_type_dict=data_type_dict, output_var=output_var)\n",
    "auto.fit(train)"
   ]
  },
  {
   "cell_type": "code",
   "execution_count": 13,
   "metadata": {},
   "outputs": [],
   "source": [
    "#let's now use the model to transform our dataset that we will use in the machine learning\n",
    "train_X, train_y = auto.fit_transform(x_train_)\n",
    "test_X, test_y = auto.transform(x_test_)"
   ]
  },
  {
   "cell_type": "code",
   "execution_count": 45,
   "metadata": {},
   "outputs": [
    {
     "data": {
      "text/plain": [
       "((71746, 11), (71746, 1))"
      ]
     },
     "execution_count": 45,
     "metadata": {},
     "output_type": "execute_result"
    }
   ],
   "source": [
    "#right now we should be having data that is already pre-formatted to be used in our models\n",
    "pd.DataFrame(train_X).T.shape,pd.DataFrame(train_y).T.shape"
   ]
  },
  {
   "cell_type": "code",
   "execution_count": 43,
   "metadata": {},
   "outputs": [
    {
     "data": {
      "text/plain": [
       "(1, 71746)"
      ]
     },
     "execution_count": 43,
     "metadata": {},
     "output_type": "execute_result"
    }
   ],
   "source": [
    "pd.DataFrame(train_y).T.shape"
   ]
  },
  {
   "cell_type": "code",
   "execution_count": 68,
   "metadata": {},
   "outputs": [
    {
     "data": {
      "text/html": [
       "<div>\n",
       "<style scoped>\n",
       "    .dataframe tbody tr th:only-of-type {\n",
       "        vertical-align: middle;\n",
       "    }\n",
       "\n",
       "    .dataframe tbody tr th {\n",
       "        vertical-align: top;\n",
       "    }\n",
       "\n",
       "    .dataframe thead th {\n",
       "        text-align: right;\n",
       "    }\n",
       "</style>\n",
       "<table border=\"1\" class=\"dataframe\">\n",
       "  <thead>\n",
       "    <tr style=\"text-align: right;\">\n",
       "      <th></th>\n",
       "    </tr>\n",
       "    <tr>\n",
       "      <th>0</th>\n",
       "    </tr>\n",
       "  </thead>\n",
       "  <tbody>\n",
       "    <tr>\n",
       "      <th>-0.04374</th>\n",
       "    </tr>\n",
       "    <tr>\n",
       "      <th>-0.04374</th>\n",
       "    </tr>\n",
       "    <tr>\n",
       "      <th>-0.04374</th>\n",
       "    </tr>\n",
       "    <tr>\n",
       "      <th>-0.04374</th>\n",
       "    </tr>\n",
       "    <tr>\n",
       "      <th>-0.04374</th>\n",
       "    </tr>\n",
       "    <tr>\n",
       "      <th>-0.04374</th>\n",
       "    </tr>\n",
       "    <tr>\n",
       "      <th>-0.04374</th>\n",
       "    </tr>\n",
       "    <tr>\n",
       "      <th>-0.04374</th>\n",
       "    </tr>\n",
       "    <tr>\n",
       "      <th>-0.04374</th>\n",
       "    </tr>\n",
       "    <tr>\n",
       "      <th>-0.04374</th>\n",
       "    </tr>\n",
       "    <tr>\n",
       "      <th>-0.04374</th>\n",
       "    </tr>\n",
       "    <tr>\n",
       "      <th>-0.04374</th>\n",
       "    </tr>\n",
       "    <tr>\n",
       "      <th>-0.04374</th>\n",
       "    </tr>\n",
       "    <tr>\n",
       "      <th>-0.04374</th>\n",
       "    </tr>\n",
       "    <tr>\n",
       "      <th>-0.04374</th>\n",
       "    </tr>\n",
       "    <tr>\n",
       "      <th>-0.04374</th>\n",
       "    </tr>\n",
       "    <tr>\n",
       "      <th>-0.04374</th>\n",
       "    </tr>\n",
       "    <tr>\n",
       "      <th>-0.04374</th>\n",
       "    </tr>\n",
       "    <tr>\n",
       "      <th>-0.04374</th>\n",
       "    </tr>\n",
       "    <tr>\n",
       "      <th>-0.04374</th>\n",
       "    </tr>\n",
       "    <tr>\n",
       "      <th>-0.04374</th>\n",
       "    </tr>\n",
       "    <tr>\n",
       "      <th>-0.04374</th>\n",
       "    </tr>\n",
       "    <tr>\n",
       "      <th>-0.04374</th>\n",
       "    </tr>\n",
       "    <tr>\n",
       "      <th>-0.04374</th>\n",
       "    </tr>\n",
       "    <tr>\n",
       "      <th>-0.04374</th>\n",
       "    </tr>\n",
       "    <tr>\n",
       "      <th>-0.04374</th>\n",
       "    </tr>\n",
       "    <tr>\n",
       "      <th>-0.04374</th>\n",
       "    </tr>\n",
       "    <tr>\n",
       "      <th>-0.04374</th>\n",
       "    </tr>\n",
       "    <tr>\n",
       "      <th>-0.04374</th>\n",
       "    </tr>\n",
       "    <tr>\n",
       "      <th>-0.04374</th>\n",
       "    </tr>\n",
       "    <tr>\n",
       "      <th>...</th>\n",
       "    </tr>\n",
       "    <tr>\n",
       "      <th>-0.04374</th>\n",
       "    </tr>\n",
       "    <tr>\n",
       "      <th>-0.04374</th>\n",
       "    </tr>\n",
       "    <tr>\n",
       "      <th>-0.04374</th>\n",
       "    </tr>\n",
       "    <tr>\n",
       "      <th>-0.04374</th>\n",
       "    </tr>\n",
       "    <tr>\n",
       "      <th>-0.04374</th>\n",
       "    </tr>\n",
       "    <tr>\n",
       "      <th>-0.04374</th>\n",
       "    </tr>\n",
       "    <tr>\n",
       "      <th>-0.04374</th>\n",
       "    </tr>\n",
       "    <tr>\n",
       "      <th>-0.04374</th>\n",
       "    </tr>\n",
       "    <tr>\n",
       "      <th>-0.04374</th>\n",
       "    </tr>\n",
       "    <tr>\n",
       "      <th>-0.04374</th>\n",
       "    </tr>\n",
       "    <tr>\n",
       "      <th>-0.04374</th>\n",
       "    </tr>\n",
       "    <tr>\n",
       "      <th>-0.04374</th>\n",
       "    </tr>\n",
       "    <tr>\n",
       "      <th>-0.04374</th>\n",
       "    </tr>\n",
       "    <tr>\n",
       "      <th>-0.04374</th>\n",
       "    </tr>\n",
       "    <tr>\n",
       "      <th>-0.04374</th>\n",
       "    </tr>\n",
       "    <tr>\n",
       "      <th>-0.04374</th>\n",
       "    </tr>\n",
       "    <tr>\n",
       "      <th>-0.04374</th>\n",
       "    </tr>\n",
       "    <tr>\n",
       "      <th>-0.04374</th>\n",
       "    </tr>\n",
       "    <tr>\n",
       "      <th>-0.04374</th>\n",
       "    </tr>\n",
       "    <tr>\n",
       "      <th>-0.04374</th>\n",
       "    </tr>\n",
       "    <tr>\n",
       "      <th>-0.04374</th>\n",
       "    </tr>\n",
       "    <tr>\n",
       "      <th>-0.04374</th>\n",
       "    </tr>\n",
       "    <tr>\n",
       "      <th>-0.04374</th>\n",
       "    </tr>\n",
       "    <tr>\n",
       "      <th>-0.04374</th>\n",
       "    </tr>\n",
       "    <tr>\n",
       "      <th>-0.04374</th>\n",
       "    </tr>\n",
       "    <tr>\n",
       "      <th>-0.04374</th>\n",
       "    </tr>\n",
       "    <tr>\n",
       "      <th>-0.04374</th>\n",
       "    </tr>\n",
       "    <tr>\n",
       "      <th>-0.04374</th>\n",
       "    </tr>\n",
       "    <tr>\n",
       "      <th>-0.04374</th>\n",
       "    </tr>\n",
       "    <tr>\n",
       "      <th>-0.04374</th>\n",
       "    </tr>\n",
       "  </tbody>\n",
       "</table>\n",
       "<p>71746 rows × 0 columns</p>\n",
       "</div>"
      ],
      "text/plain": [
       "Empty DataFrame\n",
       "Columns: []\n",
       "Index: [-0.043739768395602265, -0.043739768395602265, -0.043739768395602265, -0.043739768395602265, -0.043739768395602265, -0.043739768395602265, -0.043739768395602265, -0.043739768395602265, -0.043739768395602265, -0.043739768395602265, -0.043739768395602265, -0.043739768395602265, -0.043739768395602265, -0.043739768395602265, -0.043739768395602265, -0.043739768395602265, -0.043739768395602265, -0.043739768395602265, -0.043739768395602265, -0.043739768395602265, -0.043739768395602265, -0.043739768395602265, -0.043739768395602265, -0.043739768395602265, -0.043739768395602265, -0.043739768395602265, -0.043739768395602265, -0.043739768395602265, -0.043739768395602265, -0.043739768395602265, -0.043739768395602265, -0.043739768395602265, -0.043739768395602265, -0.043739768395602265, -0.043739768395602265, -0.043739768395602265, -0.043739768395602265, -0.043739768395602265, -0.043739768395602265, -0.043739768395602265, -0.043739768395602265, -0.043739768395602265, -0.043739768395602265, -0.043739768395602265, -0.043739768395602265, -0.043739768395602265, -0.043739768395602265, -0.043739768395602265, -0.043739768395602265, -0.043739768395602265, -0.043739768395602265, -0.043739768395602265, -0.043739768395602265, -0.043739768395602265, -0.043739768395602265, -0.043739768395602265, -0.043739768395602265, -0.043739768395602265, -0.043739768395602265, -0.043739768395602265, -0.043739768395602265, -0.043739768395602265, -0.043739768395602265, -0.043739768395602265, -0.043739768395602265, -0.043739768395602265, -0.043739768395602265, -0.043739768395602265, -0.043739768395602265, -0.043739768395602265, -0.043739768395602265, -0.043739768395602265, -0.043739768395602265, -0.043739768395602265, 22.8624895988371, -0.043739768395602265, -0.043739768395602265, -0.043739768395602265, -0.043739768395602265, -0.043739768395602265, -0.043739768395602265, -0.043739768395602265, -0.043739768395602265, -0.043739768395602265, -0.043739768395602265, -0.043739768395602265, -0.043739768395602265, -0.043739768395602265, -0.043739768395602265, -0.043739768395602265, -0.043739768395602265, -0.043739768395602265, -0.043739768395602265, -0.043739768395602265, -0.043739768395602265, -0.043739768395602265, -0.043739768395602265, -0.043739768395602265, -0.043739768395602265, -0.043739768395602265, ...]\n",
       "\n",
       "[71746 rows x 0 columns]"
      ]
     },
     "execution_count": 68,
     "metadata": {},
     "output_type": "execute_result"
    }
   ],
   "source": [
    "pd.DataFrame(train_y).set_index(0)"
   ]
  },
  {
   "cell_type": "markdown",
   "metadata": {},
   "source": [
    "### Test Data Set"
   ]
  },
  {
   "cell_type": "code",
   "execution_count": 28,
   "metadata": {},
   "outputs": [],
   "source": [
    "# TODO List out variable types\n",
    "\n",
    "data_type_dict_ = {'numerical': ['Value', 'TransactionStartTime', 'PricingStrategy'],\n",
    "                      'categorical': ob_col,\n",
    "                    }\n",
    "output_var = None"
   ]
  },
  {
   "cell_type": "code",
   "execution_count": 30,
   "metadata": {},
   "outputs": [],
   "source": [
    "auto_ = Automater(data_type_dict=data_type_dict_, output_var=output_var)\n",
    "test = auto_.fit_transform(test)"
   ]
  },
  {
   "cell_type": "code",
   "execution_count": null,
   "metadata": {},
   "outputs": [],
   "source": []
  },
  {
   "cell_type": "code",
   "execution_count": 18,
   "metadata": {},
   "outputs": [],
   "source": [
    "#let's now build random base models and check how they are doing\n",
    "\n",
    "from sklearn.linear_model import SGDClassifier\n",
    "from sklearn.ensemble import RandomForestClassifier,AdaBoostClassifier,GradientBoostingClassifier\n",
    "from sklearn.svm import NuSVC,SVC\n",
    "from sklearn.neighbors import KNeighborsClassifier,RadiusNeighborsClassifier\n",
    "\n",
    "from xgboost import XGBClassifier"
   ]
  },
  {
   "cell_type": "code",
   "execution_count": 39,
   "metadata": {},
   "outputs": [],
   "source": [
    "#let's initialize the modles here\n",
    "sgd = SGDClassifier()\n",
    "rdm = RadiusNeighborsClassifier()\n",
    "ada = AdaBoostClassifier()\n",
    "grd = GradientBoostingClassifier()\n",
    "nsv = NuSVC()\n",
    "svc = SVC()\n",
    "knn = KNeighborsClassifier()\n",
    "rnc = RadiusNeighborsClassifier()\n",
    "xgb = XGBClassifier()"
   ]
  },
  {
   "cell_type": "code",
   "execution_count": 41,
   "metadata": {},
   "outputs": [],
   "source": [
    "models = {\n",
    "'SGDClassifier':sgd,\n",
    "'RadiusNeighborsClassifier':rdm,\n",
    "'AdaBoostClassifier':ada,\n",
    "'GradientBoostingClassifier':grd,\n",
    "'NuSVC':nsv,\n",
    "'SVC':svc,\n",
    "'KNeighborsClassifier':knn,\n",
    "'RadiusNeighborsClassifier':rnc,\n",
    "'XGBClassifier':xgb\n",
    "}"
   ]
  },
  {
   "cell_type": "code",
   "execution_count": 69,
   "metadata": {},
   "outputs": [
    {
     "ename": "ValueError",
     "evalue": "bad input shape (71746, 0)",
     "output_type": "error",
     "traceback": [
      "\u001b[0;31m---------------------------------------------------------------------------\u001b[0m",
      "\u001b[0;31mValueError\u001b[0m                                Traceback (most recent call last)",
      "\u001b[0;32m<ipython-input-69-8a936e84b563>\u001b[0m in \u001b[0;36m<module>\u001b[0;34m()\u001b[0m\n\u001b[1;32m      7\u001b[0m \u001b[0;32mfor\u001b[0m \u001b[0mmodel_name\u001b[0m\u001b[0;34m,\u001b[0m \u001b[0mmodel\u001b[0m \u001b[0;32min\u001b[0m \u001b[0mmodels\u001b[0m\u001b[0;34m.\u001b[0m\u001b[0mitems\u001b[0m\u001b[0;34m(\u001b[0m\u001b[0;34m)\u001b[0m\u001b[0;34m:\u001b[0m\u001b[0;34m\u001b[0m\u001b[0m\n\u001b[1;32m      8\u001b[0m     \u001b[0;31m#let's fit the model\u001b[0m\u001b[0;34m\u001b[0m\u001b[0;34m\u001b[0m\u001b[0m\n\u001b[0;32m----> 9\u001b[0;31m     \u001b[0mmodel\u001b[0m\u001b[0;34m.\u001b[0m\u001b[0mfit\u001b[0m\u001b[0;34m(\u001b[0m\u001b[0mpd\u001b[0m\u001b[0;34m.\u001b[0m\u001b[0mDataFrame\u001b[0m\u001b[0;34m(\u001b[0m\u001b[0mtrain_X\u001b[0m\u001b[0;34m)\u001b[0m\u001b[0;34m.\u001b[0m\u001b[0mT\u001b[0m\u001b[0;34m,\u001b[0m \u001b[0mpd\u001b[0m\u001b[0;34m.\u001b[0m\u001b[0mDataFrame\u001b[0m\u001b[0;34m(\u001b[0m\u001b[0mtrain_y\u001b[0m\u001b[0;34m)\u001b[0m\u001b[0;34m.\u001b[0m\u001b[0mset_index\u001b[0m\u001b[0;34m(\u001b[0m\u001b[0;36m0\u001b[0m\u001b[0;34m)\u001b[0m\u001b[0;34m)\u001b[0m\u001b[0;34m\u001b[0m\u001b[0m\n\u001b[0m\u001b[1;32m     10\u001b[0m \u001b[0;34m\u001b[0m\u001b[0m\n\u001b[1;32m     11\u001b[0m     \u001b[0;31m#let's pred on the test data\u001b[0m\u001b[0;34m\u001b[0m\u001b[0;34m\u001b[0m\u001b[0m\n",
      "\u001b[0;32m/anaconda3/lib/python3.6/site-packages/sklearn/linear_model/stochastic_gradient.py\u001b[0m in \u001b[0;36mfit\u001b[0;34m(self, X, y, coef_init, intercept_init, sample_weight)\u001b[0m\n\u001b[1;32m    712\u001b[0m                          \u001b[0mloss\u001b[0m\u001b[0;34m=\u001b[0m\u001b[0mself\u001b[0m\u001b[0;34m.\u001b[0m\u001b[0mloss\u001b[0m\u001b[0;34m,\u001b[0m \u001b[0mlearning_rate\u001b[0m\u001b[0;34m=\u001b[0m\u001b[0mself\u001b[0m\u001b[0;34m.\u001b[0m\u001b[0mlearning_rate\u001b[0m\u001b[0;34m,\u001b[0m\u001b[0;34m\u001b[0m\u001b[0m\n\u001b[1;32m    713\u001b[0m                          \u001b[0mcoef_init\u001b[0m\u001b[0;34m=\u001b[0m\u001b[0mcoef_init\u001b[0m\u001b[0;34m,\u001b[0m \u001b[0mintercept_init\u001b[0m\u001b[0;34m=\u001b[0m\u001b[0mintercept_init\u001b[0m\u001b[0;34m,\u001b[0m\u001b[0;34m\u001b[0m\u001b[0m\n\u001b[0;32m--> 714\u001b[0;31m                          sample_weight=sample_weight)\n\u001b[0m\u001b[1;32m    715\u001b[0m \u001b[0;34m\u001b[0m\u001b[0m\n\u001b[1;32m    716\u001b[0m \u001b[0;34m\u001b[0m\u001b[0m\n",
      "\u001b[0;32m/anaconda3/lib/python3.6/site-packages/sklearn/linear_model/stochastic_gradient.py\u001b[0m in \u001b[0;36m_fit\u001b[0;34m(self, X, y, alpha, C, loss, learning_rate, coef_init, intercept_init, sample_weight)\u001b[0m\n\u001b[1;32m    544\u001b[0m \u001b[0;34m\u001b[0m\u001b[0m\n\u001b[1;32m    545\u001b[0m         X, y = check_X_y(X, y, 'csr', dtype=np.float64, order=\"C\",\n\u001b[0;32m--> 546\u001b[0;31m                          accept_large_sparse=False)\n\u001b[0m\u001b[1;32m    547\u001b[0m         \u001b[0mn_samples\u001b[0m\u001b[0;34m,\u001b[0m \u001b[0mn_features\u001b[0m \u001b[0;34m=\u001b[0m \u001b[0mX\u001b[0m\u001b[0;34m.\u001b[0m\u001b[0mshape\u001b[0m\u001b[0;34m\u001b[0m\u001b[0m\n\u001b[1;32m    548\u001b[0m \u001b[0;34m\u001b[0m\u001b[0m\n",
      "\u001b[0;32m/anaconda3/lib/python3.6/site-packages/sklearn/utils/validation.py\u001b[0m in \u001b[0;36mcheck_X_y\u001b[0;34m(X, y, accept_sparse, accept_large_sparse, dtype, order, copy, force_all_finite, ensure_2d, allow_nd, multi_output, ensure_min_samples, ensure_min_features, y_numeric, warn_on_dtype, estimator)\u001b[0m\n\u001b[1;32m    750\u001b[0m                         dtype=None)\n\u001b[1;32m    751\u001b[0m     \u001b[0;32melse\u001b[0m\u001b[0;34m:\u001b[0m\u001b[0;34m\u001b[0m\u001b[0m\n\u001b[0;32m--> 752\u001b[0;31m         \u001b[0my\u001b[0m \u001b[0;34m=\u001b[0m \u001b[0mcolumn_or_1d\u001b[0m\u001b[0;34m(\u001b[0m\u001b[0my\u001b[0m\u001b[0;34m,\u001b[0m \u001b[0mwarn\u001b[0m\u001b[0;34m=\u001b[0m\u001b[0;32mTrue\u001b[0m\u001b[0;34m)\u001b[0m\u001b[0;34m\u001b[0m\u001b[0m\n\u001b[0m\u001b[1;32m    753\u001b[0m         \u001b[0m_assert_all_finite\u001b[0m\u001b[0;34m(\u001b[0m\u001b[0my\u001b[0m\u001b[0;34m)\u001b[0m\u001b[0;34m\u001b[0m\u001b[0m\n\u001b[1;32m    754\u001b[0m     \u001b[0;32mif\u001b[0m \u001b[0my_numeric\u001b[0m \u001b[0;32mand\u001b[0m \u001b[0my\u001b[0m\u001b[0;34m.\u001b[0m\u001b[0mdtype\u001b[0m\u001b[0;34m.\u001b[0m\u001b[0mkind\u001b[0m \u001b[0;34m==\u001b[0m \u001b[0;34m'O'\u001b[0m\u001b[0;34m:\u001b[0m\u001b[0;34m\u001b[0m\u001b[0m\n",
      "\u001b[0;32m/anaconda3/lib/python3.6/site-packages/sklearn/utils/validation.py\u001b[0m in \u001b[0;36mcolumn_or_1d\u001b[0;34m(y, warn)\u001b[0m\n\u001b[1;32m    786\u001b[0m         \u001b[0;32mreturn\u001b[0m \u001b[0mnp\u001b[0m\u001b[0;34m.\u001b[0m\u001b[0mravel\u001b[0m\u001b[0;34m(\u001b[0m\u001b[0my\u001b[0m\u001b[0;34m)\u001b[0m\u001b[0;34m\u001b[0m\u001b[0m\n\u001b[1;32m    787\u001b[0m \u001b[0;34m\u001b[0m\u001b[0m\n\u001b[0;32m--> 788\u001b[0;31m     \u001b[0;32mraise\u001b[0m \u001b[0mValueError\u001b[0m\u001b[0;34m(\u001b[0m\u001b[0;34m\"bad input shape {0}\"\u001b[0m\u001b[0;34m.\u001b[0m\u001b[0mformat\u001b[0m\u001b[0;34m(\u001b[0m\u001b[0mshape\u001b[0m\u001b[0;34m)\u001b[0m\u001b[0;34m)\u001b[0m\u001b[0;34m\u001b[0m\u001b[0m\n\u001b[0m\u001b[1;32m    789\u001b[0m \u001b[0;34m\u001b[0m\u001b[0m\n\u001b[1;32m    790\u001b[0m \u001b[0;34m\u001b[0m\u001b[0m\n",
      "\u001b[0;31mValueError\u001b[0m: bad input shape (71746, 0)"
     ]
    }
   ],
   "source": [
    "#now that we have the a data structure let's loop through the structure and fit our data\n",
    "from sklearn.metrics import f1_score\n",
    "\n",
    "#result dataframe\n",
    "result = pd.DataFrame()\n",
    "\n",
    "for model_name, model in models.items():\n",
    "    #let's fit the model\n",
    "    model.fit(pd.DataFrame(train_X).T, pd.DataFrame(train_y).set_index(0))\n",
    "    \n",
    "    #let's pred on the test data\n",
    "    pred = model.predict(pd.DataFrame(test_X).T)\n",
    "    \n",
    "    #score the \n",
    "    score = f1_score(pd.DataFrame(test_y).set_index(0).T,pred)\n",
    "    \n",
    "    #lets add this to a dataframe\n",
    "    result[model_name]=score"
   ]
  },
  {
   "cell_type": "code",
   "execution_count": null,
   "metadata": {},
   "outputs": [],
   "source": []
  }
 ],
 "metadata": {
  "kernelspec": {
   "display_name": "Python 3",
   "language": "python",
   "name": "python3"
  },
  "language_info": {
   "codemirror_mode": {
    "name": "ipython",
    "version": 3
   },
   "file_extension": ".py",
   "mimetype": "text/x-python",
   "name": "python",
   "nbconvert_exporter": "python",
   "pygments_lexer": "ipython3",
   "version": "3.6.4"
  }
 },
 "nbformat": 4,
 "nbformat_minor": 2
}
